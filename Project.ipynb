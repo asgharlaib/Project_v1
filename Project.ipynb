{
  "nbformat": 4,
  "nbformat_minor": 0,
  "metadata": {
    "colab": {
      "provenance": [],
      "gpuType": "A100",
      "authorship_tag": "ABX9TyNMyinjoO41HHYYn8XcawkJ",
      "include_colab_link": true
    },
    "kernelspec": {
      "name": "python3",
      "display_name": "Python 3"
    },
    "language_info": {
      "name": "python"
    },
    "accelerator": "GPU"
  },
  "cells": [
    {
      "cell_type": "markdown",
      "metadata": {
        "id": "view-in-github",
        "colab_type": "text"
      },
      "source": [
        "<a href=\"https://colab.research.google.com/github/asgharlaib/Project_v1/blob/main/Project.ipynb\" target=\"_parent\"><img src=\"https://colab.research.google.com/assets/colab-badge.svg\" alt=\"Open In Colab\"/></a>"
      ]
    },
    {
      "cell_type": "code",
      "source": [
        "pip install --upgrade adapt"
      ],
      "metadata": {
        "id": "tQhfclj0NQCY",
        "outputId": "3395f33e-0684-4c38-bdb5-8af3644660d8",
        "colab": {
          "base_uri": "https://localhost:8080/"
        }
      },
      "execution_count": 1,
      "outputs": [
        {
          "output_type": "stream",
          "name": "stdout",
          "text": [
            "Collecting adapt\n",
            "  Downloading adapt-0.4.4.tar.gz (100 kB)\n",
            "\u001b[2K     \u001b[90m━━━━━━━━━━━━━━━━━━━━━━━━━━━━━━━━━━━━━━━━\u001b[0m \u001b[32m100.9/100.9 kB\u001b[0m \u001b[31m932.9 kB/s\u001b[0m eta \u001b[36m0:00:00\u001b[0m\n",
            "\u001b[?25h  Preparing metadata (setup.py) ... \u001b[?25l\u001b[?25hdone\n",
            "Requirement already satisfied: numpy in /usr/local/lib/python3.10/dist-packages (from adapt) (1.26.4)\n",
            "Requirement already satisfied: scipy in /usr/local/lib/python3.10/dist-packages (from adapt) (1.13.1)\n",
            "Requirement already satisfied: tensorflow in /usr/local/lib/python3.10/dist-packages (from adapt) (2.17.0)\n",
            "Requirement already satisfied: scikit-learn in /usr/local/lib/python3.10/dist-packages (from adapt) (1.3.2)\n",
            "Requirement already satisfied: cvxopt in /usr/local/lib/python3.10/dist-packages (from adapt) (1.3.2)\n",
            "Collecting scikeras (from adapt)\n",
            "  Downloading scikeras-0.13.0-py3-none-any.whl.metadata (3.1 kB)\n",
            "Requirement already satisfied: keras>=3.2.0 in /usr/local/lib/python3.10/dist-packages (from scikeras->adapt) (3.4.1)\n",
            "Collecting scikit-learn (from adapt)\n",
            "  Downloading scikit_learn-1.5.1-cp310-cp310-manylinux_2_17_x86_64.manylinux2014_x86_64.whl.metadata (12 kB)\n",
            "Requirement already satisfied: joblib>=1.2.0 in /usr/local/lib/python3.10/dist-packages (from scikit-learn->adapt) (1.4.2)\n",
            "Requirement already satisfied: threadpoolctl>=3.1.0 in /usr/local/lib/python3.10/dist-packages (from scikit-learn->adapt) (3.5.0)\n",
            "Requirement already satisfied: absl-py>=1.0.0 in /usr/local/lib/python3.10/dist-packages (from tensorflow->adapt) (1.4.0)\n",
            "Requirement already satisfied: astunparse>=1.6.0 in /usr/local/lib/python3.10/dist-packages (from tensorflow->adapt) (1.6.3)\n",
            "Requirement already satisfied: flatbuffers>=24.3.25 in /usr/local/lib/python3.10/dist-packages (from tensorflow->adapt) (24.3.25)\n",
            "Requirement already satisfied: gast!=0.5.0,!=0.5.1,!=0.5.2,>=0.2.1 in /usr/local/lib/python3.10/dist-packages (from tensorflow->adapt) (0.6.0)\n",
            "Requirement already satisfied: google-pasta>=0.1.1 in /usr/local/lib/python3.10/dist-packages (from tensorflow->adapt) (0.2.0)\n",
            "Requirement already satisfied: h5py>=3.10.0 in /usr/local/lib/python3.10/dist-packages (from tensorflow->adapt) (3.11.0)\n",
            "Requirement already satisfied: libclang>=13.0.0 in /usr/local/lib/python3.10/dist-packages (from tensorflow->adapt) (18.1.1)\n",
            "Requirement already satisfied: ml-dtypes<0.5.0,>=0.3.1 in /usr/local/lib/python3.10/dist-packages (from tensorflow->adapt) (0.4.0)\n",
            "Requirement already satisfied: opt-einsum>=2.3.2 in /usr/local/lib/python3.10/dist-packages (from tensorflow->adapt) (3.3.0)\n",
            "Requirement already satisfied: packaging in /usr/local/lib/python3.10/dist-packages (from tensorflow->adapt) (24.1)\n",
            "Requirement already satisfied: protobuf!=4.21.0,!=4.21.1,!=4.21.2,!=4.21.3,!=4.21.4,!=4.21.5,<5.0.0dev,>=3.20.3 in /usr/local/lib/python3.10/dist-packages (from tensorflow->adapt) (3.20.3)\n",
            "Requirement already satisfied: requests<3,>=2.21.0 in /usr/local/lib/python3.10/dist-packages (from tensorflow->adapt) (2.32.3)\n",
            "Requirement already satisfied: setuptools in /usr/local/lib/python3.10/dist-packages (from tensorflow->adapt) (71.0.4)\n",
            "Requirement already satisfied: six>=1.12.0 in /usr/local/lib/python3.10/dist-packages (from tensorflow->adapt) (1.16.0)\n",
            "Requirement already satisfied: termcolor>=1.1.0 in /usr/local/lib/python3.10/dist-packages (from tensorflow->adapt) (2.4.0)\n",
            "Requirement already satisfied: typing-extensions>=3.6.6 in /usr/local/lib/python3.10/dist-packages (from tensorflow->adapt) (4.12.2)\n",
            "Requirement already satisfied: wrapt>=1.11.0 in /usr/local/lib/python3.10/dist-packages (from tensorflow->adapt) (1.16.0)\n",
            "Requirement already satisfied: grpcio<2.0,>=1.24.3 in /usr/local/lib/python3.10/dist-packages (from tensorflow->adapt) (1.64.1)\n",
            "Requirement already satisfied: tensorboard<2.18,>=2.17 in /usr/local/lib/python3.10/dist-packages (from tensorflow->adapt) (2.17.0)\n",
            "Requirement already satisfied: tensorflow-io-gcs-filesystem>=0.23.1 in /usr/local/lib/python3.10/dist-packages (from tensorflow->adapt) (0.37.1)\n",
            "Requirement already satisfied: wheel<1.0,>=0.23.0 in /usr/local/lib/python3.10/dist-packages (from astunparse>=1.6.0->tensorflow->adapt) (0.44.0)\n",
            "Requirement already satisfied: rich in /usr/local/lib/python3.10/dist-packages (from keras>=3.2.0->scikeras->adapt) (13.7.1)\n",
            "Requirement already satisfied: namex in /usr/local/lib/python3.10/dist-packages (from keras>=3.2.0->scikeras->adapt) (0.0.8)\n",
            "Requirement already satisfied: optree in /usr/local/lib/python3.10/dist-packages (from keras>=3.2.0->scikeras->adapt) (0.12.1)\n",
            "Requirement already satisfied: charset-normalizer<4,>=2 in /usr/local/lib/python3.10/dist-packages (from requests<3,>=2.21.0->tensorflow->adapt) (3.3.2)\n",
            "Requirement already satisfied: idna<4,>=2.5 in /usr/local/lib/python3.10/dist-packages (from requests<3,>=2.21.0->tensorflow->adapt) (3.7)\n",
            "Requirement already satisfied: urllib3<3,>=1.21.1 in /usr/local/lib/python3.10/dist-packages (from requests<3,>=2.21.0->tensorflow->adapt) (2.0.7)\n",
            "Requirement already satisfied: certifi>=2017.4.17 in /usr/local/lib/python3.10/dist-packages (from requests<3,>=2.21.0->tensorflow->adapt) (2024.7.4)\n",
            "Requirement already satisfied: markdown>=2.6.8 in /usr/local/lib/python3.10/dist-packages (from tensorboard<2.18,>=2.17->tensorflow->adapt) (3.7)\n",
            "Requirement already satisfied: tensorboard-data-server<0.8.0,>=0.7.0 in /usr/local/lib/python3.10/dist-packages (from tensorboard<2.18,>=2.17->tensorflow->adapt) (0.7.2)\n",
            "Requirement already satisfied: werkzeug>=1.0.1 in /usr/local/lib/python3.10/dist-packages (from tensorboard<2.18,>=2.17->tensorflow->adapt) (3.0.3)\n",
            "Requirement already satisfied: MarkupSafe>=2.1.1 in /usr/local/lib/python3.10/dist-packages (from werkzeug>=1.0.1->tensorboard<2.18,>=2.17->tensorflow->adapt) (2.1.5)\n",
            "Requirement already satisfied: markdown-it-py>=2.2.0 in /usr/local/lib/python3.10/dist-packages (from rich->keras>=3.2.0->scikeras->adapt) (3.0.0)\n",
            "Requirement already satisfied: pygments<3.0.0,>=2.13.0 in /usr/local/lib/python3.10/dist-packages (from rich->keras>=3.2.0->scikeras->adapt) (2.16.1)\n",
            "Requirement already satisfied: mdurl~=0.1 in /usr/local/lib/python3.10/dist-packages (from markdown-it-py>=2.2.0->rich->keras>=3.2.0->scikeras->adapt) (0.1.2)\n",
            "Downloading scikeras-0.13.0-py3-none-any.whl (26 kB)\n",
            "Downloading scikit_learn-1.5.1-cp310-cp310-manylinux_2_17_x86_64.manylinux2014_x86_64.whl (13.4 MB)\n",
            "\u001b[2K   \u001b[90m━━━━━━━━━━━━━━━━━━━━━━━━━━━━━━━━━━━━━━━━\u001b[0m \u001b[32m13.4/13.4 MB\u001b[0m \u001b[31m67.8 MB/s\u001b[0m eta \u001b[36m0:00:00\u001b[0m\n",
            "\u001b[?25hBuilding wheels for collected packages: adapt\n",
            "  Building wheel for adapt (setup.py) ... \u001b[?25l\u001b[?25hdone\n",
            "  Created wheel for adapt: filename=adapt-0.4.4-py3-none-any.whl size=131790 sha256=7d4d7bb34154a0c75bef7ba1a9096cd7f094eff9d50f7cc06fd9191ff4088634\n",
            "  Stored in directory: /root/.cache/pip/wheels/cb/88/91/f7ac7b6024ad8778b5ecca6ebe44421105722648f2a6b7afd7\n",
            "Successfully built adapt\n",
            "Installing collected packages: scikit-learn, scikeras, adapt\n",
            "  Attempting uninstall: scikit-learn\n",
            "    Found existing installation: scikit-learn 1.3.2\n",
            "    Uninstalling scikit-learn-1.3.2:\n",
            "      Successfully uninstalled scikit-learn-1.3.2\n",
            "Successfully installed adapt-0.4.4 scikeras-0.13.0 scikit-learn-1.5.1\n"
          ]
        }
      ]
    },
    {
      "cell_type": "code",
      "source": [
        "pip install keras --upgrade"
      ],
      "metadata": {
        "id": "Ew7lsgYLOloC",
        "outputId": "9fc067a9-22be-48c0-cdce-d8ee4d423cbf",
        "colab": {
          "base_uri": "https://localhost:8080/"
        }
      },
      "execution_count": 2,
      "outputs": [
        {
          "output_type": "stream",
          "name": "stdout",
          "text": [
            "Requirement already satisfied: keras in /usr/local/lib/python3.10/dist-packages (3.4.1)\n",
            "Collecting keras\n",
            "  Downloading keras-3.5.0-py3-none-any.whl.metadata (5.8 kB)\n",
            "Requirement already satisfied: absl-py in /usr/local/lib/python3.10/dist-packages (from keras) (1.4.0)\n",
            "Requirement already satisfied: numpy in /usr/local/lib/python3.10/dist-packages (from keras) (1.26.4)\n",
            "Requirement already satisfied: rich in /usr/local/lib/python3.10/dist-packages (from keras) (13.7.1)\n",
            "Requirement already satisfied: namex in /usr/local/lib/python3.10/dist-packages (from keras) (0.0.8)\n",
            "Requirement already satisfied: h5py in /usr/local/lib/python3.10/dist-packages (from keras) (3.11.0)\n",
            "Requirement already satisfied: optree in /usr/local/lib/python3.10/dist-packages (from keras) (0.12.1)\n",
            "Requirement already satisfied: ml-dtypes in /usr/local/lib/python3.10/dist-packages (from keras) (0.4.0)\n",
            "Requirement already satisfied: packaging in /usr/local/lib/python3.10/dist-packages (from keras) (24.1)\n",
            "Requirement already satisfied: typing-extensions>=4.5.0 in /usr/local/lib/python3.10/dist-packages (from optree->keras) (4.12.2)\n",
            "Requirement already satisfied: markdown-it-py>=2.2.0 in /usr/local/lib/python3.10/dist-packages (from rich->keras) (3.0.0)\n",
            "Requirement already satisfied: pygments<3.0.0,>=2.13.0 in /usr/local/lib/python3.10/dist-packages (from rich->keras) (2.16.1)\n",
            "Requirement already satisfied: mdurl~=0.1 in /usr/local/lib/python3.10/dist-packages (from markdown-it-py>=2.2.0->rich->keras) (0.1.2)\n",
            "Downloading keras-3.5.0-py3-none-any.whl (1.1 MB)\n",
            "\u001b[2K   \u001b[90m━━━━━━━━━━━━━━━━━━━━━━━━━━━━━━━━━━━━━━━━\u001b[0m \u001b[32m1.1/1.1 MB\u001b[0m \u001b[31m6.1 MB/s\u001b[0m eta \u001b[36m0:00:00\u001b[0m\n",
            "\u001b[?25hInstalling collected packages: keras\n",
            "  Attempting uninstall: keras\n",
            "    Found existing installation: keras 3.4.1\n",
            "    Uninstalling keras-3.4.1:\n",
            "      Successfully uninstalled keras-3.4.1\n",
            "Successfully installed keras-3.5.0\n"
          ]
        }
      ]
    },
    {
      "cell_type": "code",
      "source": [
        "!pip install prophet"
      ],
      "metadata": {
        "id": "M-UlRoxtSH9v",
        "outputId": "0181f43b-d985-4617-b017-5ac4b8c4d827",
        "colab": {
          "base_uri": "https://localhost:8080/"
        }
      },
      "execution_count": 3,
      "outputs": [
        {
          "output_type": "stream",
          "name": "stdout",
          "text": [
            "Requirement already satisfied: prophet in /usr/local/lib/python3.10/dist-packages (1.1.5)\n",
            "Requirement already satisfied: cmdstanpy>=1.0.4 in /usr/local/lib/python3.10/dist-packages (from prophet) (1.2.4)\n",
            "Requirement already satisfied: numpy>=1.15.4 in /usr/local/lib/python3.10/dist-packages (from prophet) (1.26.4)\n",
            "Requirement already satisfied: matplotlib>=2.0.0 in /usr/local/lib/python3.10/dist-packages (from prophet) (3.7.1)\n",
            "Requirement already satisfied: pandas>=1.0.4 in /usr/local/lib/python3.10/dist-packages (from prophet) (2.1.4)\n",
            "Requirement already satisfied: holidays>=0.25 in /usr/local/lib/python3.10/dist-packages (from prophet) (0.55)\n",
            "Requirement already satisfied: tqdm>=4.36.1 in /usr/local/lib/python3.10/dist-packages (from prophet) (4.66.5)\n",
            "Requirement already satisfied: importlib-resources in /usr/local/lib/python3.10/dist-packages (from prophet) (6.4.3)\n",
            "Requirement already satisfied: stanio<2.0.0,>=0.4.0 in /usr/local/lib/python3.10/dist-packages (from cmdstanpy>=1.0.4->prophet) (0.5.1)\n",
            "Requirement already satisfied: python-dateutil in /usr/local/lib/python3.10/dist-packages (from holidays>=0.25->prophet) (2.8.2)\n",
            "Requirement already satisfied: contourpy>=1.0.1 in /usr/local/lib/python3.10/dist-packages (from matplotlib>=2.0.0->prophet) (1.2.1)\n",
            "Requirement already satisfied: cycler>=0.10 in /usr/local/lib/python3.10/dist-packages (from matplotlib>=2.0.0->prophet) (0.12.1)\n",
            "Requirement already satisfied: fonttools>=4.22.0 in /usr/local/lib/python3.10/dist-packages (from matplotlib>=2.0.0->prophet) (4.53.1)\n",
            "Requirement already satisfied: kiwisolver>=1.0.1 in /usr/local/lib/python3.10/dist-packages (from matplotlib>=2.0.0->prophet) (1.4.5)\n",
            "Requirement already satisfied: packaging>=20.0 in /usr/local/lib/python3.10/dist-packages (from matplotlib>=2.0.0->prophet) (24.1)\n",
            "Requirement already satisfied: pillow>=6.2.0 in /usr/local/lib/python3.10/dist-packages (from matplotlib>=2.0.0->prophet) (9.4.0)\n",
            "Requirement already satisfied: pyparsing>=2.3.1 in /usr/local/lib/python3.10/dist-packages (from matplotlib>=2.0.0->prophet) (3.1.2)\n",
            "Requirement already satisfied: pytz>=2020.1 in /usr/local/lib/python3.10/dist-packages (from pandas>=1.0.4->prophet) (2024.1)\n",
            "Requirement already satisfied: tzdata>=2022.1 in /usr/local/lib/python3.10/dist-packages (from pandas>=1.0.4->prophet) (2024.1)\n",
            "Requirement already satisfied: six>=1.5 in /usr/local/lib/python3.10/dist-packages (from python-dateutil->holidays>=0.25->prophet) (1.16.0)\n"
          ]
        }
      ]
    },
    {
      "cell_type": "code",
      "execution_count": 4,
      "metadata": {
        "id": "8baOV0etGB7g"
      },
      "outputs": [],
      "source": [
        "#Importing necessary libraries\n",
        "import pandas as pd\n",
        "import scikeras\n",
        "import matplotlib.pyplot as plt\n",
        "import numpy as np\n",
        "import seaborn as sns\n",
        "from sklearn.preprocessing import MinMaxScaler\n",
        "from sklearn.model_selection import train_test_split\n",
        "import tensorflow as tf\n",
        "from tensorflow.keras.models import Sequential\n",
        "from tensorflow.keras.layers import Dense, LSTM, Dropout\n",
        "from sklearn.metrics import mean_squared_error, mean_absolute_error, r2_score, make_scorer\n",
        "from sklearn.model_selection import GridSearchCV\n",
        "from prophet import Prophet\n",
        "from scikeras.wrappers import KerasRegressor\n",
        "import os\n",
        "from statsmodels.tsa.arima_model import ARIMA"
      ]
    },
    {
      "cell_type": "code",
      "source": [
        "from google.colab import drive\n",
        "drive.mount('/content/drive')"
      ],
      "metadata": {
        "id": "M5H5P9PFGGxx",
        "colab": {
          "base_uri": "https://localhost:8080/"
        },
        "outputId": "c4e12f4a-4e4b-4b63-fc3f-06bf0bebcbce"
      },
      "execution_count": 5,
      "outputs": [
        {
          "output_type": "stream",
          "name": "stdout",
          "text": [
            "Mounted at /content/drive\n"
          ]
        }
      ]
    },
    {
      "cell_type": "code",
      "source": [
        "#reading the dataset\n",
        "full_df = pd.read_csv(\"/content/drive/MyDrive/CC_LCL-FullData.csv\")\n",
        "full_df.head(n=10)"
      ],
      "metadata": {
        "id": "bU9GC_e80dTg",
        "colab": {
          "base_uri": "https://localhost:8080/",
          "height": 363
        },
        "outputId": "8ea18cf9-6d0a-4a1f-e4f4-f4fc8991a8a0"
      },
      "execution_count": 6,
      "outputs": [
        {
          "output_type": "execute_result",
          "data": {
            "text/plain": [
              "       LCLid stdorToU                     DateTime KWH/hh (per half hour) \n",
              "0  MAC000002      Std  2012-10-12 00:30:00.0000000                      0 \n",
              "1  MAC000002      Std  2012-10-12 01:00:00.0000000                      0 \n",
              "2  MAC000002      Std  2012-10-12 01:30:00.0000000                      0 \n",
              "3  MAC000002      Std  2012-10-12 02:00:00.0000000                      0 \n",
              "4  MAC000002      Std  2012-10-12 02:30:00.0000000                      0 \n",
              "5  MAC000002      Std  2012-10-12 03:00:00.0000000                      0 \n",
              "6  MAC000002      Std  2012-10-12 03:30:00.0000000                      0 \n",
              "7  MAC000002      Std  2012-10-12 04:00:00.0000000                      0 \n",
              "8  MAC000002      Std  2012-10-12 04:30:00.0000000                      0 \n",
              "9  MAC000002      Std  2012-10-12 05:00:00.0000000                      0 "
            ],
            "text/html": [
              "\n",
              "  <div id=\"df-2eda96a2-431b-4558-8d6e-767e5afa72e4\" class=\"colab-df-container\">\n",
              "    <div>\n",
              "<style scoped>\n",
              "    .dataframe tbody tr th:only-of-type {\n",
              "        vertical-align: middle;\n",
              "    }\n",
              "\n",
              "    .dataframe tbody tr th {\n",
              "        vertical-align: top;\n",
              "    }\n",
              "\n",
              "    .dataframe thead th {\n",
              "        text-align: right;\n",
              "    }\n",
              "</style>\n",
              "<table border=\"1\" class=\"dataframe\">\n",
              "  <thead>\n",
              "    <tr style=\"text-align: right;\">\n",
              "      <th></th>\n",
              "      <th>LCLid</th>\n",
              "      <th>stdorToU</th>\n",
              "      <th>DateTime</th>\n",
              "      <th>KWH/hh (per half hour)</th>\n",
              "    </tr>\n",
              "  </thead>\n",
              "  <tbody>\n",
              "    <tr>\n",
              "      <th>0</th>\n",
              "      <td>MAC000002</td>\n",
              "      <td>Std</td>\n",
              "      <td>2012-10-12 00:30:00.0000000</td>\n",
              "      <td>0</td>\n",
              "    </tr>\n",
              "    <tr>\n",
              "      <th>1</th>\n",
              "      <td>MAC000002</td>\n",
              "      <td>Std</td>\n",
              "      <td>2012-10-12 01:00:00.0000000</td>\n",
              "      <td>0</td>\n",
              "    </tr>\n",
              "    <tr>\n",
              "      <th>2</th>\n",
              "      <td>MAC000002</td>\n",
              "      <td>Std</td>\n",
              "      <td>2012-10-12 01:30:00.0000000</td>\n",
              "      <td>0</td>\n",
              "    </tr>\n",
              "    <tr>\n",
              "      <th>3</th>\n",
              "      <td>MAC000002</td>\n",
              "      <td>Std</td>\n",
              "      <td>2012-10-12 02:00:00.0000000</td>\n",
              "      <td>0</td>\n",
              "    </tr>\n",
              "    <tr>\n",
              "      <th>4</th>\n",
              "      <td>MAC000002</td>\n",
              "      <td>Std</td>\n",
              "      <td>2012-10-12 02:30:00.0000000</td>\n",
              "      <td>0</td>\n",
              "    </tr>\n",
              "    <tr>\n",
              "      <th>5</th>\n",
              "      <td>MAC000002</td>\n",
              "      <td>Std</td>\n",
              "      <td>2012-10-12 03:00:00.0000000</td>\n",
              "      <td>0</td>\n",
              "    </tr>\n",
              "    <tr>\n",
              "      <th>6</th>\n",
              "      <td>MAC000002</td>\n",
              "      <td>Std</td>\n",
              "      <td>2012-10-12 03:30:00.0000000</td>\n",
              "      <td>0</td>\n",
              "    </tr>\n",
              "    <tr>\n",
              "      <th>7</th>\n",
              "      <td>MAC000002</td>\n",
              "      <td>Std</td>\n",
              "      <td>2012-10-12 04:00:00.0000000</td>\n",
              "      <td>0</td>\n",
              "    </tr>\n",
              "    <tr>\n",
              "      <th>8</th>\n",
              "      <td>MAC000002</td>\n",
              "      <td>Std</td>\n",
              "      <td>2012-10-12 04:30:00.0000000</td>\n",
              "      <td>0</td>\n",
              "    </tr>\n",
              "    <tr>\n",
              "      <th>9</th>\n",
              "      <td>MAC000002</td>\n",
              "      <td>Std</td>\n",
              "      <td>2012-10-12 05:00:00.0000000</td>\n",
              "      <td>0</td>\n",
              "    </tr>\n",
              "  </tbody>\n",
              "</table>\n",
              "</div>\n",
              "    <div class=\"colab-df-buttons\">\n",
              "\n",
              "  <div class=\"colab-df-container\">\n",
              "    <button class=\"colab-df-convert\" onclick=\"convertToInteractive('df-2eda96a2-431b-4558-8d6e-767e5afa72e4')\"\n",
              "            title=\"Convert this dataframe to an interactive table.\"\n",
              "            style=\"display:none;\">\n",
              "\n",
              "  <svg xmlns=\"http://www.w3.org/2000/svg\" height=\"24px\" viewBox=\"0 -960 960 960\">\n",
              "    <path d=\"M120-120v-720h720v720H120Zm60-500h600v-160H180v160Zm220 220h160v-160H400v160Zm0 220h160v-160H400v160ZM180-400h160v-160H180v160Zm440 0h160v-160H620v160ZM180-180h160v-160H180v160Zm440 0h160v-160H620v160Z\"/>\n",
              "  </svg>\n",
              "    </button>\n",
              "\n",
              "  <style>\n",
              "    .colab-df-container {\n",
              "      display:flex;\n",
              "      gap: 12px;\n",
              "    }\n",
              "\n",
              "    .colab-df-convert {\n",
              "      background-color: #E8F0FE;\n",
              "      border: none;\n",
              "      border-radius: 50%;\n",
              "      cursor: pointer;\n",
              "      display: none;\n",
              "      fill: #1967D2;\n",
              "      height: 32px;\n",
              "      padding: 0 0 0 0;\n",
              "      width: 32px;\n",
              "    }\n",
              "\n",
              "    .colab-df-convert:hover {\n",
              "      background-color: #E2EBFA;\n",
              "      box-shadow: 0px 1px 2px rgba(60, 64, 67, 0.3), 0px 1px 3px 1px rgba(60, 64, 67, 0.15);\n",
              "      fill: #174EA6;\n",
              "    }\n",
              "\n",
              "    .colab-df-buttons div {\n",
              "      margin-bottom: 4px;\n",
              "    }\n",
              "\n",
              "    [theme=dark] .colab-df-convert {\n",
              "      background-color: #3B4455;\n",
              "      fill: #D2E3FC;\n",
              "    }\n",
              "\n",
              "    [theme=dark] .colab-df-convert:hover {\n",
              "      background-color: #434B5C;\n",
              "      box-shadow: 0px 1px 3px 1px rgba(0, 0, 0, 0.15);\n",
              "      filter: drop-shadow(0px 1px 2px rgba(0, 0, 0, 0.3));\n",
              "      fill: #FFFFFF;\n",
              "    }\n",
              "  </style>\n",
              "\n",
              "    <script>\n",
              "      const buttonEl =\n",
              "        document.querySelector('#df-2eda96a2-431b-4558-8d6e-767e5afa72e4 button.colab-df-convert');\n",
              "      buttonEl.style.display =\n",
              "        google.colab.kernel.accessAllowed ? 'block' : 'none';\n",
              "\n",
              "      async function convertToInteractive(key) {\n",
              "        const element = document.querySelector('#df-2eda96a2-431b-4558-8d6e-767e5afa72e4');\n",
              "        const dataTable =\n",
              "          await google.colab.kernel.invokeFunction('convertToInteractive',\n",
              "                                                    [key], {});\n",
              "        if (!dataTable) return;\n",
              "\n",
              "        const docLinkHtml = 'Like what you see? Visit the ' +\n",
              "          '<a target=\"_blank\" href=https://colab.research.google.com/notebooks/data_table.ipynb>data table notebook</a>'\n",
              "          + ' to learn more about interactive tables.';\n",
              "        element.innerHTML = '';\n",
              "        dataTable['output_type'] = 'display_data';\n",
              "        await google.colab.output.renderOutput(dataTable, element);\n",
              "        const docLink = document.createElement('div');\n",
              "        docLink.innerHTML = docLinkHtml;\n",
              "        element.appendChild(docLink);\n",
              "      }\n",
              "    </script>\n",
              "  </div>\n",
              "\n",
              "\n",
              "<div id=\"df-5734f7d4-2c10-44f5-9189-732664d4a7d4\">\n",
              "  <button class=\"colab-df-quickchart\" onclick=\"quickchart('df-5734f7d4-2c10-44f5-9189-732664d4a7d4')\"\n",
              "            title=\"Suggest charts\"\n",
              "            style=\"display:none;\">\n",
              "\n",
              "<svg xmlns=\"http://www.w3.org/2000/svg\" height=\"24px\"viewBox=\"0 0 24 24\"\n",
              "     width=\"24px\">\n",
              "    <g>\n",
              "        <path d=\"M19 3H5c-1.1 0-2 .9-2 2v14c0 1.1.9 2 2 2h14c1.1 0 2-.9 2-2V5c0-1.1-.9-2-2-2zM9 17H7v-7h2v7zm4 0h-2V7h2v10zm4 0h-2v-4h2v4z\"/>\n",
              "    </g>\n",
              "</svg>\n",
              "  </button>\n",
              "\n",
              "<style>\n",
              "  .colab-df-quickchart {\n",
              "      --bg-color: #E8F0FE;\n",
              "      --fill-color: #1967D2;\n",
              "      --hover-bg-color: #E2EBFA;\n",
              "      --hover-fill-color: #174EA6;\n",
              "      --disabled-fill-color: #AAA;\n",
              "      --disabled-bg-color: #DDD;\n",
              "  }\n",
              "\n",
              "  [theme=dark] .colab-df-quickchart {\n",
              "      --bg-color: #3B4455;\n",
              "      --fill-color: #D2E3FC;\n",
              "      --hover-bg-color: #434B5C;\n",
              "      --hover-fill-color: #FFFFFF;\n",
              "      --disabled-bg-color: #3B4455;\n",
              "      --disabled-fill-color: #666;\n",
              "  }\n",
              "\n",
              "  .colab-df-quickchart {\n",
              "    background-color: var(--bg-color);\n",
              "    border: none;\n",
              "    border-radius: 50%;\n",
              "    cursor: pointer;\n",
              "    display: none;\n",
              "    fill: var(--fill-color);\n",
              "    height: 32px;\n",
              "    padding: 0;\n",
              "    width: 32px;\n",
              "  }\n",
              "\n",
              "  .colab-df-quickchart:hover {\n",
              "    background-color: var(--hover-bg-color);\n",
              "    box-shadow: 0 1px 2px rgba(60, 64, 67, 0.3), 0 1px 3px 1px rgba(60, 64, 67, 0.15);\n",
              "    fill: var(--button-hover-fill-color);\n",
              "  }\n",
              "\n",
              "  .colab-df-quickchart-complete:disabled,\n",
              "  .colab-df-quickchart-complete:disabled:hover {\n",
              "    background-color: var(--disabled-bg-color);\n",
              "    fill: var(--disabled-fill-color);\n",
              "    box-shadow: none;\n",
              "  }\n",
              "\n",
              "  .colab-df-spinner {\n",
              "    border: 2px solid var(--fill-color);\n",
              "    border-color: transparent;\n",
              "    border-bottom-color: var(--fill-color);\n",
              "    animation:\n",
              "      spin 1s steps(1) infinite;\n",
              "  }\n",
              "\n",
              "  @keyframes spin {\n",
              "    0% {\n",
              "      border-color: transparent;\n",
              "      border-bottom-color: var(--fill-color);\n",
              "      border-left-color: var(--fill-color);\n",
              "    }\n",
              "    20% {\n",
              "      border-color: transparent;\n",
              "      border-left-color: var(--fill-color);\n",
              "      border-top-color: var(--fill-color);\n",
              "    }\n",
              "    30% {\n",
              "      border-color: transparent;\n",
              "      border-left-color: var(--fill-color);\n",
              "      border-top-color: var(--fill-color);\n",
              "      border-right-color: var(--fill-color);\n",
              "    }\n",
              "    40% {\n",
              "      border-color: transparent;\n",
              "      border-right-color: var(--fill-color);\n",
              "      border-top-color: var(--fill-color);\n",
              "    }\n",
              "    60% {\n",
              "      border-color: transparent;\n",
              "      border-right-color: var(--fill-color);\n",
              "    }\n",
              "    80% {\n",
              "      border-color: transparent;\n",
              "      border-right-color: var(--fill-color);\n",
              "      border-bottom-color: var(--fill-color);\n",
              "    }\n",
              "    90% {\n",
              "      border-color: transparent;\n",
              "      border-bottom-color: var(--fill-color);\n",
              "    }\n",
              "  }\n",
              "</style>\n",
              "\n",
              "  <script>\n",
              "    async function quickchart(key) {\n",
              "      const quickchartButtonEl =\n",
              "        document.querySelector('#' + key + ' button');\n",
              "      quickchartButtonEl.disabled = true;  // To prevent multiple clicks.\n",
              "      quickchartButtonEl.classList.add('colab-df-spinner');\n",
              "      try {\n",
              "        const charts = await google.colab.kernel.invokeFunction(\n",
              "            'suggestCharts', [key], {});\n",
              "      } catch (error) {\n",
              "        console.error('Error during call to suggestCharts:', error);\n",
              "      }\n",
              "      quickchartButtonEl.classList.remove('colab-df-spinner');\n",
              "      quickchartButtonEl.classList.add('colab-df-quickchart-complete');\n",
              "    }\n",
              "    (() => {\n",
              "      let quickchartButtonEl =\n",
              "        document.querySelector('#df-5734f7d4-2c10-44f5-9189-732664d4a7d4 button');\n",
              "      quickchartButtonEl.style.display =\n",
              "        google.colab.kernel.accessAllowed ? 'block' : 'none';\n",
              "    })();\n",
              "  </script>\n",
              "</div>\n",
              "\n",
              "    </div>\n",
              "  </div>\n"
            ],
            "application/vnd.google.colaboratory.intrinsic+json": {
              "type": "dataframe",
              "variable_name": "full_df"
            }
          },
          "metadata": {},
          "execution_count": 6
        }
      ]
    },
    {
      "cell_type": "code",
      "source": [
        "#Making copy of origonal dataset\n",
        "full_df_copy = full_df.copy()"
      ],
      "metadata": {
        "id": "izntMZ5X2xjy"
      },
      "execution_count": 7,
      "outputs": []
    },
    {
      "cell_type": "code",
      "source": [
        "print(f\"full_df columns datatypes: {full_df.dtypes}\")"
      ],
      "metadata": {
        "id": "vOxNeM2h0Z_0",
        "outputId": "863796f7-6e32-4d07-aa13-eee783e29e81",
        "colab": {
          "base_uri": "https://localhost:8080/"
        }
      },
      "execution_count": 26,
      "outputs": [
        {
          "output_type": "stream",
          "name": "stdout",
          "text": [
            "full_df columns datatypes: LCLid                       object\n",
            "stdorToU                    object\n",
            "KWH/hh (per half hour)     float64\n",
            "Date                        object\n",
            "Time                        object\n",
            "dtype: object\n"
          ]
        }
      ]
    },
    {
      "cell_type": "code",
      "source": [
        "# Convert the 'DateTime' column to datetime type\n",
        "full_df['DateTime'] = pd.to_datetime(full_df['DateTime'])\n",
        "\n",
        "\n",
        "# Extract the date and time into separate columns\n",
        "full_df['Date'] = full_df['DateTime'].dt.date\n",
        "full_df['Time'] = full_df['DateTime'].dt.time\n",
        "\n",
        "\n",
        "# Display the first few rows to verify\n",
        "print(full_df.head())"
      ],
      "metadata": {
        "id": "VF1DuImnI2eh",
        "outputId": "9a31a0d4-7ce1-4789-c7d8-61beebd02f65",
        "colab": {
          "base_uri": "https://localhost:8080/"
        }
      },
      "execution_count": 9,
      "outputs": [
        {
          "output_type": "stream",
          "name": "stdout",
          "text": [
            "       LCLid stdorToU            DateTime KWH/hh (per half hour)         Date  \\\n",
            "0  MAC000002      Std 2012-10-12 00:30:00                      0   2012-10-12   \n",
            "1  MAC000002      Std 2012-10-12 01:00:00                      0   2012-10-12   \n",
            "2  MAC000002      Std 2012-10-12 01:30:00                      0   2012-10-12   \n",
            "3  MAC000002      Std 2012-10-12 02:00:00                      0   2012-10-12   \n",
            "4  MAC000002      Std 2012-10-12 02:30:00                      0   2012-10-12   \n",
            "\n",
            "       Time  \n",
            "0  00:30:00  \n",
            "1  01:00:00  \n",
            "2  01:30:00  \n",
            "3  02:00:00  \n",
            "4  02:30:00  \n"
          ]
        }
      ]
    },
    {
      "cell_type": "code",
      "source": [
        "full_df.set_index('DateTime', inplace=True)"
      ],
      "metadata": {
        "id": "dIQxGwzVLAHO"
      },
      "execution_count": 10,
      "outputs": []
    },
    {
      "cell_type": "code",
      "source": [
        "#Converting consumption column to numeric datatype\n",
        "full_df['KWH/hh (per half hour) '] = pd.to_numeric(full_df['KWH/hh (per half hour) '], errors='coerce')\n",
        "full_df.columns"
      ],
      "metadata": {
        "id": "LReIBsmrJldE",
        "outputId": "65ba4229-0e6a-4ab3-9913-a259fb171ae4",
        "colab": {
          "base_uri": "https://localhost:8080/"
        }
      },
      "execution_count": 11,
      "outputs": [
        {
          "output_type": "execute_result",
          "data": {
            "text/plain": [
              "Index(['LCLid', 'stdorToU', 'KWH/hh (per half hour) ', 'Date', 'Time'], dtype='object')"
            ]
          },
          "metadata": {},
          "execution_count": 11
        }
      ]
    },
    {
      "cell_type": "code",
      "source": [
        "#Pre-processing for creating daily dataframe\n",
        "full_df_daily = full_df.groupby(['LCLid','stdorToU', 'Date']).agg({'KWH/hh (per half hour) ': 'sum'}).reset_index()\n",
        "full_df_daily.rename(columns={'KWH/hh (per half hour) ': 'Daily KWH'}, inplace=True)\n",
        "full_df_daily.head(20)"
      ],
      "metadata": {
        "id": "kXWTel4KIhxv",
        "outputId": "3e3e616f-853e-4e3e-a96e-33f3c5918917",
        "colab": {
          "base_uri": "https://localhost:8080/",
          "height": 677
        }
      },
      "execution_count": 12,
      "outputs": [
        {
          "output_type": "execute_result",
          "data": {
            "text/plain": [
              "          Date stdorToU      LCLid  Daily KWH\n",
              "0   2011-11-23      Std  MAC000145      8.952\n",
              "1   2011-11-23      Std  MAC000148      1.283\n",
              "2   2011-11-23      Std  MAC000149      2.287\n",
              "3   2011-11-23      Std  MAC000150      9.254\n",
              "4   2011-11-23      Std  MAC000151      3.273\n",
              "5   2011-11-23      Std  MAC000152      5.969\n",
              "6   2011-11-23      Std  MAC000153     21.702\n",
              "7   2011-11-23      Std  MAC000154      5.798\n",
              "8   2011-11-23      Std  MAC000155      9.281\n",
              "9   2011-11-23      Std  MAC000156      6.523\n",
              "10  2011-11-23      Std  MAC000157      7.408\n",
              "11  2011-11-23      ToU  MAC000146      5.619\n",
              "12  2011-11-23      ToU  MAC000147      3.036\n",
              "13  2011-11-24      Std  MAC000145     12.135\n",
              "14  2011-11-24      Std  MAC000148      2.304\n",
              "15  2011-11-24      Std  MAC000149      4.331\n",
              "16  2011-11-24      Std  MAC000150      9.606\n",
              "17  2011-11-24      Std  MAC000151      4.620\n",
              "18  2011-11-24      Std  MAC000152      8.394\n",
              "19  2011-11-24      Std  MAC000153     29.722"
            ],
            "text/html": [
              "\n",
              "  <div id=\"df-151286bb-c43e-49db-90fb-c849eb0be463\" class=\"colab-df-container\">\n",
              "    <div>\n",
              "<style scoped>\n",
              "    .dataframe tbody tr th:only-of-type {\n",
              "        vertical-align: middle;\n",
              "    }\n",
              "\n",
              "    .dataframe tbody tr th {\n",
              "        vertical-align: top;\n",
              "    }\n",
              "\n",
              "    .dataframe thead th {\n",
              "        text-align: right;\n",
              "    }\n",
              "</style>\n",
              "<table border=\"1\" class=\"dataframe\">\n",
              "  <thead>\n",
              "    <tr style=\"text-align: right;\">\n",
              "      <th></th>\n",
              "      <th>Date</th>\n",
              "      <th>stdorToU</th>\n",
              "      <th>LCLid</th>\n",
              "      <th>Daily KWH</th>\n",
              "    </tr>\n",
              "  </thead>\n",
              "  <tbody>\n",
              "    <tr>\n",
              "      <th>0</th>\n",
              "      <td>2011-11-23</td>\n",
              "      <td>Std</td>\n",
              "      <td>MAC000145</td>\n",
              "      <td>8.952</td>\n",
              "    </tr>\n",
              "    <tr>\n",
              "      <th>1</th>\n",
              "      <td>2011-11-23</td>\n",
              "      <td>Std</td>\n",
              "      <td>MAC000148</td>\n",
              "      <td>1.283</td>\n",
              "    </tr>\n",
              "    <tr>\n",
              "      <th>2</th>\n",
              "      <td>2011-11-23</td>\n",
              "      <td>Std</td>\n",
              "      <td>MAC000149</td>\n",
              "      <td>2.287</td>\n",
              "    </tr>\n",
              "    <tr>\n",
              "      <th>3</th>\n",
              "      <td>2011-11-23</td>\n",
              "      <td>Std</td>\n",
              "      <td>MAC000150</td>\n",
              "      <td>9.254</td>\n",
              "    </tr>\n",
              "    <tr>\n",
              "      <th>4</th>\n",
              "      <td>2011-11-23</td>\n",
              "      <td>Std</td>\n",
              "      <td>MAC000151</td>\n",
              "      <td>3.273</td>\n",
              "    </tr>\n",
              "    <tr>\n",
              "      <th>5</th>\n",
              "      <td>2011-11-23</td>\n",
              "      <td>Std</td>\n",
              "      <td>MAC000152</td>\n",
              "      <td>5.969</td>\n",
              "    </tr>\n",
              "    <tr>\n",
              "      <th>6</th>\n",
              "      <td>2011-11-23</td>\n",
              "      <td>Std</td>\n",
              "      <td>MAC000153</td>\n",
              "      <td>21.702</td>\n",
              "    </tr>\n",
              "    <tr>\n",
              "      <th>7</th>\n",
              "      <td>2011-11-23</td>\n",
              "      <td>Std</td>\n",
              "      <td>MAC000154</td>\n",
              "      <td>5.798</td>\n",
              "    </tr>\n",
              "    <tr>\n",
              "      <th>8</th>\n",
              "      <td>2011-11-23</td>\n",
              "      <td>Std</td>\n",
              "      <td>MAC000155</td>\n",
              "      <td>9.281</td>\n",
              "    </tr>\n",
              "    <tr>\n",
              "      <th>9</th>\n",
              "      <td>2011-11-23</td>\n",
              "      <td>Std</td>\n",
              "      <td>MAC000156</td>\n",
              "      <td>6.523</td>\n",
              "    </tr>\n",
              "    <tr>\n",
              "      <th>10</th>\n",
              "      <td>2011-11-23</td>\n",
              "      <td>Std</td>\n",
              "      <td>MAC000157</td>\n",
              "      <td>7.408</td>\n",
              "    </tr>\n",
              "    <tr>\n",
              "      <th>11</th>\n",
              "      <td>2011-11-23</td>\n",
              "      <td>ToU</td>\n",
              "      <td>MAC000146</td>\n",
              "      <td>5.619</td>\n",
              "    </tr>\n",
              "    <tr>\n",
              "      <th>12</th>\n",
              "      <td>2011-11-23</td>\n",
              "      <td>ToU</td>\n",
              "      <td>MAC000147</td>\n",
              "      <td>3.036</td>\n",
              "    </tr>\n",
              "    <tr>\n",
              "      <th>13</th>\n",
              "      <td>2011-11-24</td>\n",
              "      <td>Std</td>\n",
              "      <td>MAC000145</td>\n",
              "      <td>12.135</td>\n",
              "    </tr>\n",
              "    <tr>\n",
              "      <th>14</th>\n",
              "      <td>2011-11-24</td>\n",
              "      <td>Std</td>\n",
              "      <td>MAC000148</td>\n",
              "      <td>2.304</td>\n",
              "    </tr>\n",
              "    <tr>\n",
              "      <th>15</th>\n",
              "      <td>2011-11-24</td>\n",
              "      <td>Std</td>\n",
              "      <td>MAC000149</td>\n",
              "      <td>4.331</td>\n",
              "    </tr>\n",
              "    <tr>\n",
              "      <th>16</th>\n",
              "      <td>2011-11-24</td>\n",
              "      <td>Std</td>\n",
              "      <td>MAC000150</td>\n",
              "      <td>9.606</td>\n",
              "    </tr>\n",
              "    <tr>\n",
              "      <th>17</th>\n",
              "      <td>2011-11-24</td>\n",
              "      <td>Std</td>\n",
              "      <td>MAC000151</td>\n",
              "      <td>4.620</td>\n",
              "    </tr>\n",
              "    <tr>\n",
              "      <th>18</th>\n",
              "      <td>2011-11-24</td>\n",
              "      <td>Std</td>\n",
              "      <td>MAC000152</td>\n",
              "      <td>8.394</td>\n",
              "    </tr>\n",
              "    <tr>\n",
              "      <th>19</th>\n",
              "      <td>2011-11-24</td>\n",
              "      <td>Std</td>\n",
              "      <td>MAC000153</td>\n",
              "      <td>29.722</td>\n",
              "    </tr>\n",
              "  </tbody>\n",
              "</table>\n",
              "</div>\n",
              "    <div class=\"colab-df-buttons\">\n",
              "\n",
              "  <div class=\"colab-df-container\">\n",
              "    <button class=\"colab-df-convert\" onclick=\"convertToInteractive('df-151286bb-c43e-49db-90fb-c849eb0be463')\"\n",
              "            title=\"Convert this dataframe to an interactive table.\"\n",
              "            style=\"display:none;\">\n",
              "\n",
              "  <svg xmlns=\"http://www.w3.org/2000/svg\" height=\"24px\" viewBox=\"0 -960 960 960\">\n",
              "    <path d=\"M120-120v-720h720v720H120Zm60-500h600v-160H180v160Zm220 220h160v-160H400v160Zm0 220h160v-160H400v160ZM180-400h160v-160H180v160Zm440 0h160v-160H620v160ZM180-180h160v-160H180v160Zm440 0h160v-160H620v160Z\"/>\n",
              "  </svg>\n",
              "    </button>\n",
              "\n",
              "  <style>\n",
              "    .colab-df-container {\n",
              "      display:flex;\n",
              "      gap: 12px;\n",
              "    }\n",
              "\n",
              "    .colab-df-convert {\n",
              "      background-color: #E8F0FE;\n",
              "      border: none;\n",
              "      border-radius: 50%;\n",
              "      cursor: pointer;\n",
              "      display: none;\n",
              "      fill: #1967D2;\n",
              "      height: 32px;\n",
              "      padding: 0 0 0 0;\n",
              "      width: 32px;\n",
              "    }\n",
              "\n",
              "    .colab-df-convert:hover {\n",
              "      background-color: #E2EBFA;\n",
              "      box-shadow: 0px 1px 2px rgba(60, 64, 67, 0.3), 0px 1px 3px 1px rgba(60, 64, 67, 0.15);\n",
              "      fill: #174EA6;\n",
              "    }\n",
              "\n",
              "    .colab-df-buttons div {\n",
              "      margin-bottom: 4px;\n",
              "    }\n",
              "\n",
              "    [theme=dark] .colab-df-convert {\n",
              "      background-color: #3B4455;\n",
              "      fill: #D2E3FC;\n",
              "    }\n",
              "\n",
              "    [theme=dark] .colab-df-convert:hover {\n",
              "      background-color: #434B5C;\n",
              "      box-shadow: 0px 1px 3px 1px rgba(0, 0, 0, 0.15);\n",
              "      filter: drop-shadow(0px 1px 2px rgba(0, 0, 0, 0.3));\n",
              "      fill: #FFFFFF;\n",
              "    }\n",
              "  </style>\n",
              "\n",
              "    <script>\n",
              "      const buttonEl =\n",
              "        document.querySelector('#df-151286bb-c43e-49db-90fb-c849eb0be463 button.colab-df-convert');\n",
              "      buttonEl.style.display =\n",
              "        google.colab.kernel.accessAllowed ? 'block' : 'none';\n",
              "\n",
              "      async function convertToInteractive(key) {\n",
              "        const element = document.querySelector('#df-151286bb-c43e-49db-90fb-c849eb0be463');\n",
              "        const dataTable =\n",
              "          await google.colab.kernel.invokeFunction('convertToInteractive',\n",
              "                                                    [key], {});\n",
              "        if (!dataTable) return;\n",
              "\n",
              "        const docLinkHtml = 'Like what you see? Visit the ' +\n",
              "          '<a target=\"_blank\" href=https://colab.research.google.com/notebooks/data_table.ipynb>data table notebook</a>'\n",
              "          + ' to learn more about interactive tables.';\n",
              "        element.innerHTML = '';\n",
              "        dataTable['output_type'] = 'display_data';\n",
              "        await google.colab.output.renderOutput(dataTable, element);\n",
              "        const docLink = document.createElement('div');\n",
              "        docLink.innerHTML = docLinkHtml;\n",
              "        element.appendChild(docLink);\n",
              "      }\n",
              "    </script>\n",
              "  </div>\n",
              "\n",
              "\n",
              "<div id=\"df-82935b09-5b20-411f-917f-0cfae193f3dc\">\n",
              "  <button class=\"colab-df-quickchart\" onclick=\"quickchart('df-82935b09-5b20-411f-917f-0cfae193f3dc')\"\n",
              "            title=\"Suggest charts\"\n",
              "            style=\"display:none;\">\n",
              "\n",
              "<svg xmlns=\"http://www.w3.org/2000/svg\" height=\"24px\"viewBox=\"0 0 24 24\"\n",
              "     width=\"24px\">\n",
              "    <g>\n",
              "        <path d=\"M19 3H5c-1.1 0-2 .9-2 2v14c0 1.1.9 2 2 2h14c1.1 0 2-.9 2-2V5c0-1.1-.9-2-2-2zM9 17H7v-7h2v7zm4 0h-2V7h2v10zm4 0h-2v-4h2v4z\"/>\n",
              "    </g>\n",
              "</svg>\n",
              "  </button>\n",
              "\n",
              "<style>\n",
              "  .colab-df-quickchart {\n",
              "      --bg-color: #E8F0FE;\n",
              "      --fill-color: #1967D2;\n",
              "      --hover-bg-color: #E2EBFA;\n",
              "      --hover-fill-color: #174EA6;\n",
              "      --disabled-fill-color: #AAA;\n",
              "      --disabled-bg-color: #DDD;\n",
              "  }\n",
              "\n",
              "  [theme=dark] .colab-df-quickchart {\n",
              "      --bg-color: #3B4455;\n",
              "      --fill-color: #D2E3FC;\n",
              "      --hover-bg-color: #434B5C;\n",
              "      --hover-fill-color: #FFFFFF;\n",
              "      --disabled-bg-color: #3B4455;\n",
              "      --disabled-fill-color: #666;\n",
              "  }\n",
              "\n",
              "  .colab-df-quickchart {\n",
              "    background-color: var(--bg-color);\n",
              "    border: none;\n",
              "    border-radius: 50%;\n",
              "    cursor: pointer;\n",
              "    display: none;\n",
              "    fill: var(--fill-color);\n",
              "    height: 32px;\n",
              "    padding: 0;\n",
              "    width: 32px;\n",
              "  }\n",
              "\n",
              "  .colab-df-quickchart:hover {\n",
              "    background-color: var(--hover-bg-color);\n",
              "    box-shadow: 0 1px 2px rgba(60, 64, 67, 0.3), 0 1px 3px 1px rgba(60, 64, 67, 0.15);\n",
              "    fill: var(--button-hover-fill-color);\n",
              "  }\n",
              "\n",
              "  .colab-df-quickchart-complete:disabled,\n",
              "  .colab-df-quickchart-complete:disabled:hover {\n",
              "    background-color: var(--disabled-bg-color);\n",
              "    fill: var(--disabled-fill-color);\n",
              "    box-shadow: none;\n",
              "  }\n",
              "\n",
              "  .colab-df-spinner {\n",
              "    border: 2px solid var(--fill-color);\n",
              "    border-color: transparent;\n",
              "    border-bottom-color: var(--fill-color);\n",
              "    animation:\n",
              "      spin 1s steps(1) infinite;\n",
              "  }\n",
              "\n",
              "  @keyframes spin {\n",
              "    0% {\n",
              "      border-color: transparent;\n",
              "      border-bottom-color: var(--fill-color);\n",
              "      border-left-color: var(--fill-color);\n",
              "    }\n",
              "    20% {\n",
              "      border-color: transparent;\n",
              "      border-left-color: var(--fill-color);\n",
              "      border-top-color: var(--fill-color);\n",
              "    }\n",
              "    30% {\n",
              "      border-color: transparent;\n",
              "      border-left-color: var(--fill-color);\n",
              "      border-top-color: var(--fill-color);\n",
              "      border-right-color: var(--fill-color);\n",
              "    }\n",
              "    40% {\n",
              "      border-color: transparent;\n",
              "      border-right-color: var(--fill-color);\n",
              "      border-top-color: var(--fill-color);\n",
              "    }\n",
              "    60% {\n",
              "      border-color: transparent;\n",
              "      border-right-color: var(--fill-color);\n",
              "    }\n",
              "    80% {\n",
              "      border-color: transparent;\n",
              "      border-right-color: var(--fill-color);\n",
              "      border-bottom-color: var(--fill-color);\n",
              "    }\n",
              "    90% {\n",
              "      border-color: transparent;\n",
              "      border-bottom-color: var(--fill-color);\n",
              "    }\n",
              "  }\n",
              "</style>\n",
              "\n",
              "  <script>\n",
              "    async function quickchart(key) {\n",
              "      const quickchartButtonEl =\n",
              "        document.querySelector('#' + key + ' button');\n",
              "      quickchartButtonEl.disabled = true;  // To prevent multiple clicks.\n",
              "      quickchartButtonEl.classList.add('colab-df-spinner');\n",
              "      try {\n",
              "        const charts = await google.colab.kernel.invokeFunction(\n",
              "            'suggestCharts', [key], {});\n",
              "      } catch (error) {\n",
              "        console.error('Error during call to suggestCharts:', error);\n",
              "      }\n",
              "      quickchartButtonEl.classList.remove('colab-df-spinner');\n",
              "      quickchartButtonEl.classList.add('colab-df-quickchart-complete');\n",
              "    }\n",
              "    (() => {\n",
              "      let quickchartButtonEl =\n",
              "        document.querySelector('#df-82935b09-5b20-411f-917f-0cfae193f3dc button');\n",
              "      quickchartButtonEl.style.display =\n",
              "        google.colab.kernel.accessAllowed ? 'block' : 'none';\n",
              "    })();\n",
              "  </script>\n",
              "</div>\n",
              "\n",
              "    </div>\n",
              "  </div>\n"
            ],
            "application/vnd.google.colaboratory.intrinsic+json": {
              "type": "dataframe",
              "variable_name": "full_df_daily"
            }
          },
          "metadata": {},
          "execution_count": 12
        }
      ]
    },
    {
      "cell_type": "code",
      "source": [
        "#Locating nan indices\n",
        "nan_indices = full_df_daily[full_df_daily['Daily KWH'].isnull()].index\n",
        "print(nan_indices)"
      ],
      "metadata": {
        "id": "HO8FULNUQm8A",
        "outputId": "0e040790-f155-4196-98ce-45c3345314cd",
        "colab": {
          "base_uri": "https://localhost:8080/"
        }
      },
      "execution_count": null,
      "outputs": [
        {
          "output_type": "stream",
          "name": "stdout",
          "text": [
            "Index([], dtype='int64')\n"
          ]
        }
      ]
    },
    {
      "cell_type": "code",
      "source": [
        "#Dealing with nan values\n",
        "full_df_daily['Daily KWH'].fillna(full_df_daily['Daily KWH'].mean(skipna=True), inplace=True)\n",
        "full_df_daily.head(15)"
      ],
      "metadata": {
        "id": "7z-QlnnORCBz",
        "outputId": "c69b8cb0-e1cc-4b28-cb31-c736de358696",
        "colab": {
          "base_uri": "https://localhost:8080/",
          "height": 520
        }
      },
      "execution_count": null,
      "outputs": [
        {
          "output_type": "execute_result",
          "data": {
            "text/plain": [
              "          Date stdorToU      LCLid  Daily KWH\n",
              "0   2011-11-23      ToU  MAC000146      5.619\n",
              "1   2011-11-24      ToU  MAC000146      8.564\n",
              "2   2011-11-25      ToU  MAC000146      6.743\n",
              "3   2011-11-26      ToU  MAC000146      6.029\n",
              "4   2011-11-27      ToU  MAC000146      5.740\n",
              "5   2011-11-28      ToU  MAC000146      6.096\n",
              "6   2011-11-29      ToU  MAC000146      7.121\n",
              "7   2011-11-30      ToU  MAC000146      6.612\n",
              "8   2011-12-01      ToU  MAC000146      6.002\n",
              "9   2011-12-02      ToU  MAC000146      5.309\n",
              "10  2011-12-03      ToU  MAC000146      4.519\n",
              "11  2011-12-04      ToU  MAC000146      4.661\n",
              "12  2011-12-05      ToU  MAC000146      5.314\n",
              "13  2011-12-06      ToU  MAC000015     14.819\n",
              "14  2011-12-06      ToU  MAC000017      3.295"
            ],
            "text/html": [
              "\n",
              "  <div id=\"df-410bafa8-e7c7-4bab-b415-cc832e1ff242\" class=\"colab-df-container\">\n",
              "    <div>\n",
              "<style scoped>\n",
              "    .dataframe tbody tr th:only-of-type {\n",
              "        vertical-align: middle;\n",
              "    }\n",
              "\n",
              "    .dataframe tbody tr th {\n",
              "        vertical-align: top;\n",
              "    }\n",
              "\n",
              "    .dataframe thead th {\n",
              "        text-align: right;\n",
              "    }\n",
              "</style>\n",
              "<table border=\"1\" class=\"dataframe\">\n",
              "  <thead>\n",
              "    <tr style=\"text-align: right;\">\n",
              "      <th></th>\n",
              "      <th>Date</th>\n",
              "      <th>stdorToU</th>\n",
              "      <th>LCLid</th>\n",
              "      <th>Daily KWH</th>\n",
              "    </tr>\n",
              "  </thead>\n",
              "  <tbody>\n",
              "    <tr>\n",
              "      <th>0</th>\n",
              "      <td>2011-11-23</td>\n",
              "      <td>ToU</td>\n",
              "      <td>MAC000146</td>\n",
              "      <td>5.619</td>\n",
              "    </tr>\n",
              "    <tr>\n",
              "      <th>1</th>\n",
              "      <td>2011-11-24</td>\n",
              "      <td>ToU</td>\n",
              "      <td>MAC000146</td>\n",
              "      <td>8.564</td>\n",
              "    </tr>\n",
              "    <tr>\n",
              "      <th>2</th>\n",
              "      <td>2011-11-25</td>\n",
              "      <td>ToU</td>\n",
              "      <td>MAC000146</td>\n",
              "      <td>6.743</td>\n",
              "    </tr>\n",
              "    <tr>\n",
              "      <th>3</th>\n",
              "      <td>2011-11-26</td>\n",
              "      <td>ToU</td>\n",
              "      <td>MAC000146</td>\n",
              "      <td>6.029</td>\n",
              "    </tr>\n",
              "    <tr>\n",
              "      <th>4</th>\n",
              "      <td>2011-11-27</td>\n",
              "      <td>ToU</td>\n",
              "      <td>MAC000146</td>\n",
              "      <td>5.740</td>\n",
              "    </tr>\n",
              "    <tr>\n",
              "      <th>5</th>\n",
              "      <td>2011-11-28</td>\n",
              "      <td>ToU</td>\n",
              "      <td>MAC000146</td>\n",
              "      <td>6.096</td>\n",
              "    </tr>\n",
              "    <tr>\n",
              "      <th>6</th>\n",
              "      <td>2011-11-29</td>\n",
              "      <td>ToU</td>\n",
              "      <td>MAC000146</td>\n",
              "      <td>7.121</td>\n",
              "    </tr>\n",
              "    <tr>\n",
              "      <th>7</th>\n",
              "      <td>2011-11-30</td>\n",
              "      <td>ToU</td>\n",
              "      <td>MAC000146</td>\n",
              "      <td>6.612</td>\n",
              "    </tr>\n",
              "    <tr>\n",
              "      <th>8</th>\n",
              "      <td>2011-12-01</td>\n",
              "      <td>ToU</td>\n",
              "      <td>MAC000146</td>\n",
              "      <td>6.002</td>\n",
              "    </tr>\n",
              "    <tr>\n",
              "      <th>9</th>\n",
              "      <td>2011-12-02</td>\n",
              "      <td>ToU</td>\n",
              "      <td>MAC000146</td>\n",
              "      <td>5.309</td>\n",
              "    </tr>\n",
              "    <tr>\n",
              "      <th>10</th>\n",
              "      <td>2011-12-03</td>\n",
              "      <td>ToU</td>\n",
              "      <td>MAC000146</td>\n",
              "      <td>4.519</td>\n",
              "    </tr>\n",
              "    <tr>\n",
              "      <th>11</th>\n",
              "      <td>2011-12-04</td>\n",
              "      <td>ToU</td>\n",
              "      <td>MAC000146</td>\n",
              "      <td>4.661</td>\n",
              "    </tr>\n",
              "    <tr>\n",
              "      <th>12</th>\n",
              "      <td>2011-12-05</td>\n",
              "      <td>ToU</td>\n",
              "      <td>MAC000146</td>\n",
              "      <td>5.314</td>\n",
              "    </tr>\n",
              "    <tr>\n",
              "      <th>13</th>\n",
              "      <td>2011-12-06</td>\n",
              "      <td>ToU</td>\n",
              "      <td>MAC000015</td>\n",
              "      <td>14.819</td>\n",
              "    </tr>\n",
              "    <tr>\n",
              "      <th>14</th>\n",
              "      <td>2011-12-06</td>\n",
              "      <td>ToU</td>\n",
              "      <td>MAC000017</td>\n",
              "      <td>3.295</td>\n",
              "    </tr>\n",
              "  </tbody>\n",
              "</table>\n",
              "</div>\n",
              "    <div class=\"colab-df-buttons\">\n",
              "\n",
              "  <div class=\"colab-df-container\">\n",
              "    <button class=\"colab-df-convert\" onclick=\"convertToInteractive('df-410bafa8-e7c7-4bab-b415-cc832e1ff242')\"\n",
              "            title=\"Convert this dataframe to an interactive table.\"\n",
              "            style=\"display:none;\">\n",
              "\n",
              "  <svg xmlns=\"http://www.w3.org/2000/svg\" height=\"24px\" viewBox=\"0 -960 960 960\">\n",
              "    <path d=\"M120-120v-720h720v720H120Zm60-500h600v-160H180v160Zm220 220h160v-160H400v160Zm0 220h160v-160H400v160ZM180-400h160v-160H180v160Zm440 0h160v-160H620v160ZM180-180h160v-160H180v160Zm440 0h160v-160H620v160Z\"/>\n",
              "  </svg>\n",
              "    </button>\n",
              "\n",
              "  <style>\n",
              "    .colab-df-container {\n",
              "      display:flex;\n",
              "      gap: 12px;\n",
              "    }\n",
              "\n",
              "    .colab-df-convert {\n",
              "      background-color: #E8F0FE;\n",
              "      border: none;\n",
              "      border-radius: 50%;\n",
              "      cursor: pointer;\n",
              "      display: none;\n",
              "      fill: #1967D2;\n",
              "      height: 32px;\n",
              "      padding: 0 0 0 0;\n",
              "      width: 32px;\n",
              "    }\n",
              "\n",
              "    .colab-df-convert:hover {\n",
              "      background-color: #E2EBFA;\n",
              "      box-shadow: 0px 1px 2px rgba(60, 64, 67, 0.3), 0px 1px 3px 1px rgba(60, 64, 67, 0.15);\n",
              "      fill: #174EA6;\n",
              "    }\n",
              "\n",
              "    .colab-df-buttons div {\n",
              "      margin-bottom: 4px;\n",
              "    }\n",
              "\n",
              "    [theme=dark] .colab-df-convert {\n",
              "      background-color: #3B4455;\n",
              "      fill: #D2E3FC;\n",
              "    }\n",
              "\n",
              "    [theme=dark] .colab-df-convert:hover {\n",
              "      background-color: #434B5C;\n",
              "      box-shadow: 0px 1px 3px 1px rgba(0, 0, 0, 0.15);\n",
              "      filter: drop-shadow(0px 1px 2px rgba(0, 0, 0, 0.3));\n",
              "      fill: #FFFFFF;\n",
              "    }\n",
              "  </style>\n",
              "\n",
              "    <script>\n",
              "      const buttonEl =\n",
              "        document.querySelector('#df-410bafa8-e7c7-4bab-b415-cc832e1ff242 button.colab-df-convert');\n",
              "      buttonEl.style.display =\n",
              "        google.colab.kernel.accessAllowed ? 'block' : 'none';\n",
              "\n",
              "      async function convertToInteractive(key) {\n",
              "        const element = document.querySelector('#df-410bafa8-e7c7-4bab-b415-cc832e1ff242');\n",
              "        const dataTable =\n",
              "          await google.colab.kernel.invokeFunction('convertToInteractive',\n",
              "                                                    [key], {});\n",
              "        if (!dataTable) return;\n",
              "\n",
              "        const docLinkHtml = 'Like what you see? Visit the ' +\n",
              "          '<a target=\"_blank\" href=https://colab.research.google.com/notebooks/data_table.ipynb>data table notebook</a>'\n",
              "          + ' to learn more about interactive tables.';\n",
              "        element.innerHTML = '';\n",
              "        dataTable['output_type'] = 'display_data';\n",
              "        await google.colab.output.renderOutput(dataTable, element);\n",
              "        const docLink = document.createElement('div');\n",
              "        docLink.innerHTML = docLinkHtml;\n",
              "        element.appendChild(docLink);\n",
              "      }\n",
              "    </script>\n",
              "  </div>\n",
              "\n",
              "\n",
              "<div id=\"df-c3c87a38-f79c-4316-99e3-ad686a7a5031\">\n",
              "  <button class=\"colab-df-quickchart\" onclick=\"quickchart('df-c3c87a38-f79c-4316-99e3-ad686a7a5031')\"\n",
              "            title=\"Suggest charts\"\n",
              "            style=\"display:none;\">\n",
              "\n",
              "<svg xmlns=\"http://www.w3.org/2000/svg\" height=\"24px\"viewBox=\"0 0 24 24\"\n",
              "     width=\"24px\">\n",
              "    <g>\n",
              "        <path d=\"M19 3H5c-1.1 0-2 .9-2 2v14c0 1.1.9 2 2 2h14c1.1 0 2-.9 2-2V5c0-1.1-.9-2-2-2zM9 17H7v-7h2v7zm4 0h-2V7h2v10zm4 0h-2v-4h2v4z\"/>\n",
              "    </g>\n",
              "</svg>\n",
              "  </button>\n",
              "\n",
              "<style>\n",
              "  .colab-df-quickchart {\n",
              "      --bg-color: #E8F0FE;\n",
              "      --fill-color: #1967D2;\n",
              "      --hover-bg-color: #E2EBFA;\n",
              "      --hover-fill-color: #174EA6;\n",
              "      --disabled-fill-color: #AAA;\n",
              "      --disabled-bg-color: #DDD;\n",
              "  }\n",
              "\n",
              "  [theme=dark] .colab-df-quickchart {\n",
              "      --bg-color: #3B4455;\n",
              "      --fill-color: #D2E3FC;\n",
              "      --hover-bg-color: #434B5C;\n",
              "      --hover-fill-color: #FFFFFF;\n",
              "      --disabled-bg-color: #3B4455;\n",
              "      --disabled-fill-color: #666;\n",
              "  }\n",
              "\n",
              "  .colab-df-quickchart {\n",
              "    background-color: var(--bg-color);\n",
              "    border: none;\n",
              "    border-radius: 50%;\n",
              "    cursor: pointer;\n",
              "    display: none;\n",
              "    fill: var(--fill-color);\n",
              "    height: 32px;\n",
              "    padding: 0;\n",
              "    width: 32px;\n",
              "  }\n",
              "\n",
              "  .colab-df-quickchart:hover {\n",
              "    background-color: var(--hover-bg-color);\n",
              "    box-shadow: 0 1px 2px rgba(60, 64, 67, 0.3), 0 1px 3px 1px rgba(60, 64, 67, 0.15);\n",
              "    fill: var(--button-hover-fill-color);\n",
              "  }\n",
              "\n",
              "  .colab-df-quickchart-complete:disabled,\n",
              "  .colab-df-quickchart-complete:disabled:hover {\n",
              "    background-color: var(--disabled-bg-color);\n",
              "    fill: var(--disabled-fill-color);\n",
              "    box-shadow: none;\n",
              "  }\n",
              "\n",
              "  .colab-df-spinner {\n",
              "    border: 2px solid var(--fill-color);\n",
              "    border-color: transparent;\n",
              "    border-bottom-color: var(--fill-color);\n",
              "    animation:\n",
              "      spin 1s steps(1) infinite;\n",
              "  }\n",
              "\n",
              "  @keyframes spin {\n",
              "    0% {\n",
              "      border-color: transparent;\n",
              "      border-bottom-color: var(--fill-color);\n",
              "      border-left-color: var(--fill-color);\n",
              "    }\n",
              "    20% {\n",
              "      border-color: transparent;\n",
              "      border-left-color: var(--fill-color);\n",
              "      border-top-color: var(--fill-color);\n",
              "    }\n",
              "    30% {\n",
              "      border-color: transparent;\n",
              "      border-left-color: var(--fill-color);\n",
              "      border-top-color: var(--fill-color);\n",
              "      border-right-color: var(--fill-color);\n",
              "    }\n",
              "    40% {\n",
              "      border-color: transparent;\n",
              "      border-right-color: var(--fill-color);\n",
              "      border-top-color: var(--fill-color);\n",
              "    }\n",
              "    60% {\n",
              "      border-color: transparent;\n",
              "      border-right-color: var(--fill-color);\n",
              "    }\n",
              "    80% {\n",
              "      border-color: transparent;\n",
              "      border-right-color: var(--fill-color);\n",
              "      border-bottom-color: var(--fill-color);\n",
              "    }\n",
              "    90% {\n",
              "      border-color: transparent;\n",
              "      border-bottom-color: var(--fill-color);\n",
              "    }\n",
              "  }\n",
              "</style>\n",
              "\n",
              "  <script>\n",
              "    async function quickchart(key) {\n",
              "      const quickchartButtonEl =\n",
              "        document.querySelector('#' + key + ' button');\n",
              "      quickchartButtonEl.disabled = true;  // To prevent multiple clicks.\n",
              "      quickchartButtonEl.classList.add('colab-df-spinner');\n",
              "      try {\n",
              "        const charts = await google.colab.kernel.invokeFunction(\n",
              "            'suggestCharts', [key], {});\n",
              "      } catch (error) {\n",
              "        console.error('Error during call to suggestCharts:', error);\n",
              "      }\n",
              "      quickchartButtonEl.classList.remove('colab-df-spinner');\n",
              "      quickchartButtonEl.classList.add('colab-df-quickchart-complete');\n",
              "    }\n",
              "    (() => {\n",
              "      let quickchartButtonEl =\n",
              "        document.querySelector('#df-c3c87a38-f79c-4316-99e3-ad686a7a5031 button');\n",
              "      quickchartButtonEl.style.display =\n",
              "        google.colab.kernel.accessAllowed ? 'block' : 'none';\n",
              "    })();\n",
              "  </script>\n",
              "</div>\n",
              "\n",
              "    </div>\n",
              "  </div>\n"
            ],
            "application/vnd.google.colaboratory.intrinsic+json": {
              "type": "dataframe",
              "variable_name": "full_df_daily",
              "summary": "{\n  \"name\": \"full_df_daily\",\n  \"rows\": 20876,\n  \"fields\": [\n    {\n      \"column\": \"Date\",\n      \"properties\": {\n        \"dtype\": \"date\",\n        \"min\": \"2011-11-23\",\n        \"max\": \"2014-02-28\",\n        \"num_unique_values\": 829,\n        \"samples\": [\n          \"2013-07-23\",\n          \"2013-02-22\",\n          \"2012-09-08\"\n        ],\n        \"semantic_type\": \"\",\n        \"description\": \"\"\n      }\n    },\n    {\n      \"column\": \"stdorToU\",\n      \"properties\": {\n        \"dtype\": \"category\",\n        \"num_unique_values\": 2,\n        \"samples\": [\n          \"Std\",\n          \"ToU\"\n        ],\n        \"semantic_type\": \"\",\n        \"description\": \"\"\n      }\n    },\n    {\n      \"column\": \"LCLid\",\n      \"properties\": {\n        \"dtype\": \"category\",\n        \"num_unique_values\": 34,\n        \"samples\": [\n          \"MAC000088\",\n          \"MAC000124\"\n        ],\n        \"semantic_type\": \"\",\n        \"description\": \"\"\n      }\n    },\n    {\n      \"column\": \"Daily KWH\",\n      \"properties\": {\n        \"dtype\": \"number\",\n        \"std\": 6.71429963870031,\n        \"min\": 0.0,\n        \"max\": 66.7819998,\n        \"num_unique_values\": 14128,\n        \"samples\": [\n          20.3210001,\n          12.4459999\n        ],\n        \"semantic_type\": \"\",\n        \"description\": \"\"\n      }\n    }\n  ]\n}"
            }
          },
          "metadata": {},
          "execution_count": 15
        }
      ]
    },
    {
      "cell_type": "code",
      "source": [
        "plt.figure(figsize=(14, 7))\n",
        "\n",
        "plt.boxplot(full_df_daily['Daily KWH'])\n",
        "plt.title('Boxplot of Energy Consumption Before Handling Outliers')\n",
        "plt.ylabel('Energy Consumption')\n",
        "plt.savefig('Outliers_Boxplot before.png')\n",
        "plt.show()"
      ],
      "metadata": {
        "id": "gNxaV2KSgM2P",
        "outputId": "6d2d0126-0c17-497a-b221-9c9179d0f451",
        "colab": {
          "base_uri": "https://localhost:8080/",
          "height": 622
        }
      },
      "execution_count": 15,
      "outputs": [
        {
          "output_type": "display_data",
          "data": {
            "text/plain": [
              "<Figure size 1400x700 with 1 Axes>"
            ],
            "image/png": "[encoded data removed]"
          },
          "metadata": {}
        }
      ]
    },
    {
      "cell_type": "code",
      "source": [
        "quantile1 = full_df_daily['Daily KWH'].quantile(0.25)\n",
        "quantile3 = full_df_daily['Daily KWH'].quantile(0.75)\n",
        "Inter_quartile_range = quantile3 - quantile1\n",
        "lower_bound = quantile1 - 1.5 * Inter_quartile_range\n",
        "upper_bound = quantile3 + 1.5 * Inter_quartile_range"
      ],
      "metadata": {
        "id": "fYbFkCfs8z7t"
      },
      "execution_count": 16,
      "outputs": []
    },
    {
      "cell_type": "code",
      "source": [
        "filtered_data = full_df_daily[(full_df_daily['Daily KWH'] >= lower_bound) &\n",
        "                              (full_df_daily['Daily KWH'] <= upper_bound)]\n",
        "filtered_data.head(10)"
      ],
      "metadata": {
        "colab": {
          "base_uri": "https://localhost:8080/",
          "height": 363
        },
        "id": "2ZRB9vLN5gO-",
        "outputId": "9dd99df0-0cd0-4d8a-fedb-168dd787a3a0"
      },
      "execution_count": 17,
      "outputs": [
        {
          "output_type": "execute_result",
          "data": {
            "text/plain": [
              "         Date stdorToU      LCLid  Daily KWH\n",
              "0  2011-11-23      Std  MAC000145      8.952\n",
              "1  2011-11-23      Std  MAC000148      1.283\n",
              "2  2011-11-23      Std  MAC000149      2.287\n",
              "3  2011-11-23      Std  MAC000150      9.254\n",
              "4  2011-11-23      Std  MAC000151      3.273\n",
              "5  2011-11-23      Std  MAC000152      5.969\n",
              "6  2011-11-23      Std  MAC000153     21.702\n",
              "7  2011-11-23      Std  MAC000154      5.798\n",
              "8  2011-11-23      Std  MAC000155      9.281\n",
              "9  2011-11-23      Std  MAC000156      6.523"
            ],
            "text/html": [
              "\n",
              "  <div id=\"df-e8d41c50-582e-47fd-8b98-57b394877a56\" class=\"colab-df-container\">\n",
              "    <div>\n",
              "<style scoped>\n",
              "    .dataframe tbody tr th:only-of-type {\n",
              "        vertical-align: middle;\n",
              "    }\n",
              "\n",
              "    .dataframe tbody tr th {\n",
              "        vertical-align: top;\n",
              "    }\n",
              "\n",
              "    .dataframe thead th {\n",
              "        text-align: right;\n",
              "    }\n",
              "</style>\n",
              "<table border=\"1\" class=\"dataframe\">\n",
              "  <thead>\n",
              "    <tr style=\"text-align: right;\">\n",
              "      <th></th>\n",
              "      <th>Date</th>\n",
              "      <th>stdorToU</th>\n",
              "      <th>LCLid</th>\n",
              "      <th>Daily KWH</th>\n",
              "    </tr>\n",
              "  </thead>\n",
              "  <tbody>\n",
              "    <tr>\n",
              "      <th>0</th>\n",
              "      <td>2011-11-23</td>\n",
              "      <td>Std</td>\n",
              "      <td>MAC000145</td>\n",
              "      <td>8.952</td>\n",
              "    </tr>\n",
              "    <tr>\n",
              "      <th>1</th>\n",
              "      <td>2011-11-23</td>\n",
              "      <td>Std</td>\n",
              "      <td>MAC000148</td>\n",
              "      <td>1.283</td>\n",
              "    </tr>\n",
              "    <tr>\n",
              "      <th>2</th>\n",
              "      <td>2011-11-23</td>\n",
              "      <td>Std</td>\n",
              "      <td>MAC000149</td>\n",
              "      <td>2.287</td>\n",
              "    </tr>\n",
              "    <tr>\n",
              "      <th>3</th>\n",
              "      <td>2011-11-23</td>\n",
              "      <td>Std</td>\n",
              "      <td>MAC000150</td>\n",
              "      <td>9.254</td>\n",
              "    </tr>\n",
              "    <tr>\n",
              "      <th>4</th>\n",
              "      <td>2011-11-23</td>\n",
              "      <td>Std</td>\n",
              "      <td>MAC000151</td>\n",
              "      <td>3.273</td>\n",
              "    </tr>\n",
              "    <tr>\n",
              "      <th>5</th>\n",
              "      <td>2011-11-23</td>\n",
              "      <td>Std</td>\n",
              "      <td>MAC000152</td>\n",
              "      <td>5.969</td>\n",
              "    </tr>\n",
              "    <tr>\n",
              "      <th>6</th>\n",
              "      <td>2011-11-23</td>\n",
              "      <td>Std</td>\n",
              "      <td>MAC000153</td>\n",
              "      <td>21.702</td>\n",
              "    </tr>\n",
              "    <tr>\n",
              "      <th>7</th>\n",
              "      <td>2011-11-23</td>\n",
              "      <td>Std</td>\n",
              "      <td>MAC000154</td>\n",
              "      <td>5.798</td>\n",
              "    </tr>\n",
              "    <tr>\n",
              "      <th>8</th>\n",
              "      <td>2011-11-23</td>\n",
              "      <td>Std</td>\n",
              "      <td>MAC000155</td>\n",
              "      <td>9.281</td>\n",
              "    </tr>\n",
              "    <tr>\n",
              "      <th>9</th>\n",
              "      <td>2011-11-23</td>\n",
              "      <td>Std</td>\n",
              "      <td>MAC000156</td>\n",
              "      <td>6.523</td>\n",
              "    </tr>\n",
              "  </tbody>\n",
              "</table>\n",
              "</div>\n",
              "    <div class=\"colab-df-buttons\">\n",
              "\n",
              "  <div class=\"colab-df-container\">\n",
              "    <button class=\"colab-df-convert\" onclick=\"convertToInteractive('df-e8d41c50-582e-47fd-8b98-57b394877a56')\"\n",
              "            title=\"Convert this dataframe to an interactive table.\"\n",
              "            style=\"display:none;\">\n",
              "\n",
              "  <svg xmlns=\"http://www.w3.org/2000/svg\" height=\"24px\" viewBox=\"0 -960 960 960\">\n",
              "    <path d=\"M120-120v-720h720v720H120Zm60-500h600v-160H180v160Zm220 220h160v-160H400v160Zm0 220h160v-160H400v160ZM180-400h160v-160H180v160Zm440 0h160v-160H620v160ZM180-180h160v-160H180v160Zm440 0h160v-160H620v160Z\"/>\n",
              "  </svg>\n",
              "    </button>\n",
              "\n",
              "  <style>\n",
              "    .colab-df-container {\n",
              "      display:flex;\n",
              "      gap: 12px;\n",
              "    }\n",
              "\n",
              "    .colab-df-convert {\n",
              "      background-color: #E8F0FE;\n",
              "      border: none;\n",
              "      border-radius: 50%;\n",
              "      cursor: pointer;\n",
              "      display: none;\n",
              "      fill: #1967D2;\n",
              "      height: 32px;\n",
              "      padding: 0 0 0 0;\n",
              "      width: 32px;\n",
              "    }\n",
              "\n",
              "    .colab-df-convert:hover {\n",
              "      background-color: #E2EBFA;\n",
              "      box-shadow: 0px 1px 2px rgba(60, 64, 67, 0.3), 0px 1px 3px 1px rgba(60, 64, 67, 0.15);\n",
              "      fill: #174EA6;\n",
              "    }\n",
              "\n",
              "    .colab-df-buttons div {\n",
              "      margin-bottom: 4px;\n",
              "    }\n",
              "\n",
              "    [theme=dark] .colab-df-convert {\n",
              "      background-color: #3B4455;\n",
              "      fill: #D2E3FC;\n",
              "    }\n",
              "\n",
              "    [theme=dark] .colab-df-convert:hover {\n",
              "      background-color: #434B5C;\n",
              "      box-shadow: 0px 1px 3px 1px rgba(0, 0, 0, 0.15);\n",
              "      filter: drop-shadow(0px 1px 2px rgba(0, 0, 0, 0.3));\n",
              "      fill: #FFFFFF;\n",
              "    }\n",
              "  </style>\n",
              "\n",
              "    <script>\n",
              "      const buttonEl =\n",
              "        document.querySelector('#df-e8d41c50-582e-47fd-8b98-57b394877a56 button.colab-df-convert');\n",
              "      buttonEl.style.display =\n",
              "        google.colab.kernel.accessAllowed ? 'block' : 'none';\n",
              "\n",
              "      async function convertToInteractive(key) {\n",
              "        const element = document.querySelector('#df-e8d41c50-582e-47fd-8b98-57b394877a56');\n",
              "        const dataTable =\n",
              "          await google.colab.kernel.invokeFunction('convertToInteractive',\n",
              "                                                    [key], {});\n",
              "        if (!dataTable) return;\n",
              "\n",
              "        const docLinkHtml = 'Like what you see? Visit the ' +\n",
              "          '<a target=\"_blank\" href=https://colab.research.google.com/notebooks/data_table.ipynb>data table notebook</a>'\n",
              "          + ' to learn more about interactive tables.';\n",
              "        element.innerHTML = '';\n",
              "        dataTable['output_type'] = 'display_data';\n",
              "        await google.colab.output.renderOutput(dataTable, element);\n",
              "        const docLink = document.createElement('div');\n",
              "        docLink.innerHTML = docLinkHtml;\n",
              "        element.appendChild(docLink);\n",
              "      }\n",
              "    </script>\n",
              "  </div>\n",
              "\n",
              "\n",
              "<div id=\"df-7255ebd3-dd9a-4b76-9abe-94336b9f8c4c\">\n",
              "  <button class=\"colab-df-quickchart\" onclick=\"quickchart('df-7255ebd3-dd9a-4b76-9abe-94336b9f8c4c')\"\n",
              "            title=\"Suggest charts\"\n",
              "            style=\"display:none;\">\n",
              "\n",
              "<svg xmlns=\"http://www.w3.org/2000/svg\" height=\"24px\"viewBox=\"0 0 24 24\"\n",
              "     width=\"24px\">\n",
              "    <g>\n",
              "        <path d=\"M19 3H5c-1.1 0-2 .9-2 2v14c0 1.1.9 2 2 2h14c1.1 0 2-.9 2-2V5c0-1.1-.9-2-2-2zM9 17H7v-7h2v7zm4 0h-2V7h2v10zm4 0h-2v-4h2v4z\"/>\n",
              "    </g>\n",
              "</svg>\n",
              "  </button>\n",
              "\n",
              "<style>\n",
              "  .colab-df-quickchart {\n",
              "      --bg-color: #E8F0FE;\n",
              "      --fill-color: #1967D2;\n",
              "      --hover-bg-color: #E2EBFA;\n",
              "      --hover-fill-color: #174EA6;\n",
              "      --disabled-fill-color: #AAA;\n",
              "      --disabled-bg-color: #DDD;\n",
              "  }\n",
              "\n",
              "  [theme=dark] .colab-df-quickchart {\n",
              "      --bg-color: #3B4455;\n",
              "      --fill-color: #D2E3FC;\n",
              "      --hover-bg-color: #434B5C;\n",
              "      --hover-fill-color: #FFFFFF;\n",
              "      --disabled-bg-color: #3B4455;\n",
              "      --disabled-fill-color: #666;\n",
              "  }\n",
              "\n",
              "  .colab-df-quickchart {\n",
              "    background-color: var(--bg-color);\n",
              "    border: none;\n",
              "    border-radius: 50%;\n",
              "    cursor: pointer;\n",
              "    display: none;\n",
              "    fill: var(--fill-color);\n",
              "    height: 32px;\n",
              "    padding: 0;\n",
              "    width: 32px;\n",
              "  }\n",
              "\n",
              "  .colab-df-quickchart:hover {\n",
              "    background-color: var(--hover-bg-color);\n",
              "    box-shadow: 0 1px 2px rgba(60, 64, 67, 0.3), 0 1px 3px 1px rgba(60, 64, 67, 0.15);\n",
              "    fill: var(--button-hover-fill-color);\n",
              "  }\n",
              "\n",
              "  .colab-df-quickchart-complete:disabled,\n",
              "  .colab-df-quickchart-complete:disabled:hover {\n",
              "    background-color: var(--disabled-bg-color);\n",
              "    fill: var(--disabled-fill-color);\n",
              "    box-shadow: none;\n",
              "  }\n",
              "\n",
              "  .colab-df-spinner {\n",
              "    border: 2px solid var(--fill-color);\n",
              "    border-color: transparent;\n",
              "    border-bottom-color: var(--fill-color);\n",
              "    animation:\n",
              "      spin 1s steps(1) infinite;\n",
              "  }\n",
              "\n",
              "  @keyframes spin {\n",
              "    0% {\n",
              "      border-color: transparent;\n",
              "      border-bottom-color: var(--fill-color);\n",
              "      border-left-color: var(--fill-color);\n",
              "    }\n",
              "    20% {\n",
              "      border-color: transparent;\n",
              "      border-left-color: var(--fill-color);\n",
              "      border-top-color: var(--fill-color);\n",
              "    }\n",
              "    30% {\n",
              "      border-color: transparent;\n",
              "      border-left-color: var(--fill-color);\n",
              "      border-top-color: var(--fill-color);\n",
              "      border-right-color: var(--fill-color);\n",
              "    }\n",
              "    40% {\n",
              "      border-color: transparent;\n",
              "      border-right-color: var(--fill-color);\n",
              "      border-top-color: var(--fill-color);\n",
              "    }\n",
              "    60% {\n",
              "      border-color: transparent;\n",
              "      border-right-color: var(--fill-color);\n",
              "    }\n",
              "    80% {\n",
              "      border-color: transparent;\n",
              "      border-right-color: var(--fill-color);\n",
              "      border-bottom-color: var(--fill-color);\n",
              "    }\n",
              "    90% {\n",
              "      border-color: transparent;\n",
              "      border-bottom-color: var(--fill-color);\n",
              "    }\n",
              "  }\n",
              "</style>\n",
              "\n",
              "  <script>\n",
              "    async function quickchart(key) {\n",
              "      const quickchartButtonEl =\n",
              "        document.querySelector('#' + key + ' button');\n",
              "      quickchartButtonEl.disabled = true;  // To prevent multiple clicks.\n",
              "      quickchartButtonEl.classList.add('colab-df-spinner');\n",
              "      try {\n",
              "        const charts = await google.colab.kernel.invokeFunction(\n",
              "            'suggestCharts', [key], {});\n",
              "      } catch (error) {\n",
              "        console.error('Error during call to suggestCharts:', error);\n",
              "      }\n",
              "      quickchartButtonEl.classList.remove('colab-df-spinner');\n",
              "      quickchartButtonEl.classList.add('colab-df-quickchart-complete');\n",
              "    }\n",
              "    (() => {\n",
              "      let quickchartButtonEl =\n",
              "        document.querySelector('#df-7255ebd3-dd9a-4b76-9abe-94336b9f8c4c button');\n",
              "      quickchartButtonEl.style.display =\n",
              "        google.colab.kernel.accessAllowed ? 'block' : 'none';\n",
              "    })();\n",
              "  </script>\n",
              "</div>\n",
              "\n",
              "    </div>\n",
              "  </div>\n"
            ],
            "application/vnd.google.colaboratory.intrinsic+json": {
              "type": "dataframe",
              "variable_name": "filtered_data"
            }
          },
          "metadata": {},
          "execution_count": 17
        }
      ]
    },
    {
      "cell_type": "code",
      "source": [
        "plt.figure(figsize=(14, 7))\n",
        "\n",
        "plt.boxplot(filtered_data['Daily KWH'])\n",
        "plt.title('Boxplot of Energy Consumption After Handling Outliers')\n",
        "plt.ylabel('Energy Consumption')\n",
        "plt.savefig('Outliers_Subplot after.png')\n",
        "plt.show()\n",
        "\n"
      ],
      "metadata": {
        "id": "tYpnilYZ9VHj",
        "outputId": "0d1b4785-b308-4492-8d4b-c8d7edda8843",
        "colab": {
          "base_uri": "https://localhost:8080/",
          "height": 622
        }
      },
      "execution_count": 18,
      "outputs": [
        {
          "output_type": "display_data",
          "data": {
            "text/plain": [
              "<Figure size 1400x700 with 1 Axes>"
            ],
            "image/png": "[encoded data removed]"
          },
          "metadata": {}
        }
      ]
    },
    {
      "cell_type": "code",
      "source": [
        "#Looking for missing values\n",
        "print(f\"missing values: {full_df_daily.isnull().sum()} \\n\")"
      ],
      "metadata": {
        "id": "Kvkqyv2nOLXe",
        "outputId": "7c8968ce-f357-4055-d028-fd6d76569730",
        "colab": {
          "base_uri": "https://localhost:8080/"
        }
      },
      "execution_count": null,
      "outputs": [
        {
          "output_type": "stream",
          "name": "stdout",
          "text": [
            "missing values: Date         0\n",
            "stdorToU     0\n",
            "LCLid        0\n",
            "Daily KWH    0\n",
            "dtype: int64 \n",
            "\n"
          ]
        }
      ]
    },
    {
      "cell_type": "code",
      "source": [
        "##Descriptive Analysis\n",
        "#Dataframe column names\n",
        "print(f\"Column names: {list(full_df_daily.columns)} \\n\")\n",
        "\n",
        "#Dataframe shape\n",
        "print(f\"full_df_daily shape: {full_df_daily.shape} \\n\")\n",
        "\n",
        "#Dataframe datatypes\n",
        "print(f\"full_df_daily columns datatypes: {full_df_daily.dtypes} \\n\")\n",
        "\n",
        "#Looking for missing values\n",
        "print(f\"missing values: {full_df_daily.isnull().sum()} \\n\")"
      ],
      "metadata": {
        "colab": {
          "base_uri": "https://localhost:8080/"
        },
        "id": "BGPfW8BYJ-dz",
        "outputId": "aa919082-1efc-43a7-e45c-c86b7b39b181"
      },
      "execution_count": 13,
      "outputs": [
        {
          "output_type": "stream",
          "name": "stdout",
          "text": [
            "Column names: ['Date', 'stdorToU', 'LCLid', 'Daily KWH'] \n",
            "\n",
            "full_df_daily shape: (3510433, 4) \n",
            "\n",
            "full_df_daily columns datatypes: Date          object\n",
            "stdorToU      object\n",
            "LCLid         object\n",
            "Daily KWH    float64\n",
            "dtype: object \n",
            "\n",
            "missing values: Date         0\n",
            "stdorToU     0\n",
            "LCLid        0\n",
            "Daily KWH    0\n",
            "dtype: int64 \n",
            "\n"
          ]
        }
      ]
    },
    {
      "cell_type": "code",
      "source": [
        "##Descriptive Statistics\n",
        "full_df_daily.describe()"
      ],
      "metadata": {
        "colab": {
          "base_uri": "https://localhost:8080/",
          "height": 300
        },
        "id": "dUzFlVVsL54g",
        "outputId": "1b3c18de-6b0e-4371-dd67-fa410288987c"
      },
      "execution_count": 14,
      "outputs": [
        {
          "output_type": "execute_result",
          "data": {
            "text/plain": [
              "          Daily KWH\n",
              "count  3.510433e+06\n",
              "mean   1.013001e+01\n",
              "std    9.134486e+00\n",
              "min    0.000000e+00\n",
              "25%    4.685000e+00\n",
              "50%    7.819000e+00\n",
              "75%    1.257600e+01\n",
              "max    3.325560e+02"
            ],
            "text/html": [
              "\n",
              "  <div id=\"df-c7845249-0727-49c4-aec5-1759aaa3b9d8\" class=\"colab-df-container\">\n",
              "    <div>\n",
              "<style scoped>\n",
              "    .dataframe tbody tr th:only-of-type {\n",
              "        vertical-align: middle;\n",
              "    }\n",
              "\n",
              "    .dataframe tbody tr th {\n",
              "        vertical-align: top;\n",
              "    }\n",
              "\n",
              "    .dataframe thead th {\n",
              "        text-align: right;\n",
              "    }\n",
              "</style>\n",
              "<table border=\"1\" class=\"dataframe\">\n",
              "  <thead>\n",
              "    <tr style=\"text-align: right;\">\n",
              "      <th></th>\n",
              "      <th>Daily KWH</th>\n",
              "    </tr>\n",
              "  </thead>\n",
              "  <tbody>\n",
              "    <tr>\n",
              "      <th>count</th>\n",
              "      <td>3.510433e+06</td>\n",
              "    </tr>\n",
              "    <tr>\n",
              "      <th>mean</th>\n",
              "      <td>1.013001e+01</td>\n",
              "    </tr>\n",
              "    <tr>\n",
              "      <th>std</th>\n",
              "      <td>9.134486e+00</td>\n",
              "    </tr>\n",
              "    <tr>\n",
              "      <th>min</th>\n",
              "      <td>0.000000e+00</td>\n",
              "    </tr>\n",
              "    <tr>\n",
              "      <th>25%</th>\n",
              "      <td>4.685000e+00</td>\n",
              "    </tr>\n",
              "    <tr>\n",
              "      <th>50%</th>\n",
              "      <td>7.819000e+00</td>\n",
              "    </tr>\n",
              "    <tr>\n",
              "      <th>75%</th>\n",
              "      <td>1.257600e+01</td>\n",
              "    </tr>\n",
              "    <tr>\n",
              "      <th>max</th>\n",
              "      <td>3.325560e+02</td>\n",
              "    </tr>\n",
              "  </tbody>\n",
              "</table>\n",
              "</div>\n",
              "    <div class=\"colab-df-buttons\">\n",
              "\n",
              "  <div class=\"colab-df-container\">\n",
              "    <button class=\"colab-df-convert\" onclick=\"convertToInteractive('df-c7845249-0727-49c4-aec5-1759aaa3b9d8')\"\n",
              "            title=\"Convert this dataframe to an interactive table.\"\n",
              "            style=\"display:none;\">\n",
              "\n",
              "  <svg xmlns=\"http://www.w3.org/2000/svg\" height=\"24px\" viewBox=\"0 -960 960 960\">\n",
              "    <path d=\"M120-120v-720h720v720H120Zm60-500h600v-160H180v160Zm220 220h160v-160H400v160Zm0 220h160v-160H400v160ZM180-400h160v-160H180v160Zm440 0h160v-160H620v160ZM180-180h160v-160H180v160Zm440 0h160v-160H620v160Z\"/>\n",
              "  </svg>\n",
              "    </button>\n",
              "\n",
              "  <style>\n",
              "    .colab-df-container {\n",
              "      display:flex;\n",
              "      gap: 12px;\n",
              "    }\n",
              "\n",
              "    .colab-df-convert {\n",
              "      background-color: #E8F0FE;\n",
              "      border: none;\n",
              "      border-radius: 50%;\n",
              "      cursor: pointer;\n",
              "      display: none;\n",
              "      fill: #1967D2;\n",
              "      height: 32px;\n",
              "      padding: 0 0 0 0;\n",
              "      width: 32px;\n",
              "    }\n",
              "\n",
              "    .colab-df-convert:hover {\n",
              "      background-color: #E2EBFA;\n",
              "      box-shadow: 0px 1px 2px rgba(60, 64, 67, 0.3), 0px 1px 3px 1px rgba(60, 64, 67, 0.15);\n",
              "      fill: #174EA6;\n",
              "    }\n",
              "\n",
              "    .colab-df-buttons div {\n",
              "      margin-bottom: 4px;\n",
              "    }\n",
              "\n",
              "    [theme=dark] .colab-df-convert {\n",
              "      background-color: #3B4455;\n",
              "      fill: #D2E3FC;\n",
              "    }\n",
              "\n",
              "    [theme=dark] .colab-df-convert:hover {\n",
              "      background-color: #434B5C;\n",
              "      box-shadow: 0px 1px 3px 1px rgba(0, 0, 0, 0.15);\n",
              "      filter: drop-shadow(0px 1px 2px rgba(0, 0, 0, 0.3));\n",
              "      fill: #FFFFFF;\n",
              "    }\n",
              "  </style>\n",
              "\n",
              "    <script>\n",
              "      const buttonEl =\n",
              "        document.querySelector('#df-c7845249-0727-49c4-aec5-1759aaa3b9d8 button.colab-df-convert');\n",
              "      buttonEl.style.display =\n",
              "        google.colab.kernel.accessAllowed ? 'block' : 'none';\n",
              "\n",
              "      async function convertToInteractive(key) {\n",
              "        const element = document.querySelector('#df-c7845249-0727-49c4-aec5-1759aaa3b9d8');\n",
              "        const dataTable =\n",
              "          await google.colab.kernel.invokeFunction('convertToInteractive',\n",
              "                                                    [key], {});\n",
              "        if (!dataTable) return;\n",
              "\n",
              "        const docLinkHtml = 'Like what you see? Visit the ' +\n",
              "          '<a target=\"_blank\" href=https://colab.research.google.com/notebooks/data_table.ipynb>data table notebook</a>'\n",
              "          + ' to learn more about interactive tables.';\n",
              "        element.innerHTML = '';\n",
              "        dataTable['output_type'] = 'display_data';\n",
              "        await google.colab.output.renderOutput(dataTable, element);\n",
              "        const docLink = document.createElement('div');\n",
              "        docLink.innerHTML = docLinkHtml;\n",
              "        element.appendChild(docLink);\n",
              "      }\n",
              "    </script>\n",
              "  </div>\n",
              "\n",
              "\n",
              "<div id=\"df-76e2fb8d-9b1f-4e30-81e3-780786d6597e\">\n",
              "  <button class=\"colab-df-quickchart\" onclick=\"quickchart('df-76e2fb8d-9b1f-4e30-81e3-780786d6597e')\"\n",
              "            title=\"Suggest charts\"\n",
              "            style=\"display:none;\">\n",
              "\n",
              "<svg xmlns=\"http://www.w3.org/2000/svg\" height=\"24px\"viewBox=\"0 0 24 24\"\n",
              "     width=\"24px\">\n",
              "    <g>\n",
              "        <path d=\"M19 3H5c-1.1 0-2 .9-2 2v14c0 1.1.9 2 2 2h14c1.1 0 2-.9 2-2V5c0-1.1-.9-2-2-2zM9 17H7v-7h2v7zm4 0h-2V7h2v10zm4 0h-2v-4h2v4z\"/>\n",
              "    </g>\n",
              "</svg>\n",
              "  </button>\n",
              "\n",
              "<style>\n",
              "  .colab-df-quickchart {\n",
              "      --bg-color: #E8F0FE;\n",
              "      --fill-color: #1967D2;\n",
              "      --hover-bg-color: #E2EBFA;\n",
              "      --hover-fill-color: #174EA6;\n",
              "      --disabled-fill-color: #AAA;\n",
              "      --disabled-bg-color: #DDD;\n",
              "  }\n",
              "\n",
              "  [theme=dark] .colab-df-quickchart {\n",
              "      --bg-color: #3B4455;\n",
              "      --fill-color: #D2E3FC;\n",
              "      --hover-bg-color: #434B5C;\n",
              "      --hover-fill-color: #FFFFFF;\n",
              "      --disabled-bg-color: #3B4455;\n",
              "      --disabled-fill-color: #666;\n",
              "  }\n",
              "\n",
              "  .colab-df-quickchart {\n",
              "    background-color: var(--bg-color);\n",
              "    border: none;\n",
              "    border-radius: 50%;\n",
              "    cursor: pointer;\n",
              "    display: none;\n",
              "    fill: var(--fill-color);\n",
              "    height: 32px;\n",
              "    padding: 0;\n",
              "    width: 32px;\n",
              "  }\n",
              "\n",
              "  .colab-df-quickchart:hover {\n",
              "    background-color: var(--hover-bg-color);\n",
              "    box-shadow: 0 1px 2px rgba(60, 64, 67, 0.3), 0 1px 3px 1px rgba(60, 64, 67, 0.15);\n",
              "    fill: var(--button-hover-fill-color);\n",
              "  }\n",
              "\n",
              "  .colab-df-quickchart-complete:disabled,\n",
              "  .colab-df-quickchart-complete:disabled:hover {\n",
              "    background-color: var(--disabled-bg-color);\n",
              "    fill: var(--disabled-fill-color);\n",
              "    box-shadow: none;\n",
              "  }\n",
              "\n",
              "  .colab-df-spinner {\n",
              "    border: 2px solid var(--fill-color);\n",
              "    border-color: transparent;\n",
              "    border-bottom-color: var(--fill-color);\n",
              "    animation:\n",
              "      spin 1s steps(1) infinite;\n",
              "  }\n",
              "\n",
              "  @keyframes spin {\n",
              "    0% {\n",
              "      border-color: transparent;\n",
              "      border-bottom-color: var(--fill-color);\n",
              "      border-left-color: var(--fill-color);\n",
              "    }\n",
              "    20% {\n",
              "      border-color: transparent;\n",
              "      border-left-color: var(--fill-color);\n",
              "      border-top-color: var(--fill-color);\n",
              "    }\n",
              "    30% {\n",
              "      border-color: transparent;\n",
              "      border-left-color: var(--fill-color);\n",
              "      border-top-color: var(--fill-color);\n",
              "      border-right-color: var(--fill-color);\n",
              "    }\n",
              "    40% {\n",
              "      border-color: transparent;\n",
              "      border-right-color: var(--fill-color);\n",
              "      border-top-color: var(--fill-color);\n",
              "    }\n",
              "    60% {\n",
              "      border-color: transparent;\n",
              "      border-right-color: var(--fill-color);\n",
              "    }\n",
              "    80% {\n",
              "      border-color: transparent;\n",
              "      border-right-color: var(--fill-color);\n",
              "      border-bottom-color: var(--fill-color);\n",
              "    }\n",
              "    90% {\n",
              "      border-color: transparent;\n",
              "      border-bottom-color: var(--fill-color);\n",
              "    }\n",
              "  }\n",
              "</style>\n",
              "\n",
              "  <script>\n",
              "    async function quickchart(key) {\n",
              "      const quickchartButtonEl =\n",
              "        document.querySelector('#' + key + ' button');\n",
              "      quickchartButtonEl.disabled = true;  // To prevent multiple clicks.\n",
              "      quickchartButtonEl.classList.add('colab-df-spinner');\n",
              "      try {\n",
              "        const charts = await google.colab.kernel.invokeFunction(\n",
              "            'suggestCharts', [key], {});\n",
              "      } catch (error) {\n",
              "        console.error('Error during call to suggestCharts:', error);\n",
              "      }\n",
              "      quickchartButtonEl.classList.remove('colab-df-spinner');\n",
              "      quickchartButtonEl.classList.add('colab-df-quickchart-complete');\n",
              "    }\n",
              "    (() => {\n",
              "      let quickchartButtonEl =\n",
              "        document.querySelector('#df-76e2fb8d-9b1f-4e30-81e3-780786d6597e button');\n",
              "      quickchartButtonEl.style.display =\n",
              "        google.colab.kernel.accessAllowed ? 'block' : 'none';\n",
              "    })();\n",
              "  </script>\n",
              "</div>\n",
              "\n",
              "    </div>\n",
              "  </div>\n"
            ],
            "application/vnd.google.colaboratory.intrinsic+json": {
              "type": "dataframe",
              "summary": "{\n  \"name\": \"full_df_daily\",\n  \"rows\": 8,\n  \"fields\": [\n    {\n      \"column\": \"Daily KWH\",\n      \"properties\": {\n        \"dtype\": \"number\",\n        \"std\": 1241106.4584724926,\n        \"min\": 0.0,\n        \"max\": 3510433.0,\n        \"num_unique_values\": 8,\n        \"samples\": [\n          10.130006375391915,\n          7.819,\n          3510433.0\n        ],\n        \"semantic_type\": \"\",\n        \"description\": \"\"\n      }\n    }\n  ]\n}"
            }
          },
          "metadata": {},
          "execution_count": 14
        }
      ]
    },
    {
      "cell_type": "code",
      "source": [
        "# Count the occurrences of each category\n",
        "counts = filtered_data['stdorToU'].value_counts()\n",
        "\n",
        "# Plot a pie chart\n",
        "plt.figure()\n",
        "plt.pie(counts, labels=counts.index, autopct='%1.1f%%', startangle=140, colors=['skyblue', 'lightcoral'])\n",
        "plt.title('Distribution of Dynamic TOU vs Standard Users')\n",
        "plt.show()\n"
      ],
      "metadata": {
        "colab": {
          "base_uri": "https://localhost:8080/",
          "height": 428
        },
        "id": "Skk19hY2G1zQ",
        "outputId": "d06b2fdf-572c-4667-8201-3ae99d6ebc81"
      },
      "execution_count": 19,
      "outputs": [
        {
          "output_type": "display_data",
          "data": {
            "text/plain": [
              "<Figure size 640x480 with 1 Axes>"
            ],
            "image/png": "[encoded data removed]"
          },
          "metadata": {}
        }
      ]
    },
    {
      "cell_type": "code",
      "source": [
        "# Filter for dynamic and standard pricing\n",
        "df_standard = filtered_data[filtered_data['stdorToU'] == 'Std']\n",
        "df_dynamic = filtered_data[filtered_data['stdorToU'] == 'ToU']\n",
        "\n",
        "print(df_standard.head())\n",
        "print(df_dynamic.head())\n",
        "# Plot the data\n",
        "plt.figure(figsize=(14, 7))\n",
        "#plt.hist(df_dynamic['KWH/hh (per half hour) '], bins=20, alpha=0.5, color = 'b', label='Dynamic')\n",
        "#plt.hist(df_standard['KWH/hh (per half hour) '], bins=20, alpha=0.5, color = 'r', label='Standard')\n",
        "plt.plot(df_standard['Date'], df_standard['Daily KWH'],alpha = 0.5, label='Standard')\n",
        "plt.plot(df_dynamic['Date'], df_dynamic['Daily KWH'],alpha= 0.3, label='DToU')\n",
        "# Formatting the plot\n",
        "plt.title('Energy Consumption Dynamic vs Standard', fontsize=16)\n",
        "plt.xlabel('Date', fontsize=14)\n",
        "plt.ylabel('Energy Consumption', fontsize=14)\n",
        "plt.legend()\n",
        "plt.xticks(rotation=45)\n",
        "plt.grid(True)\n",
        "plt.tight_layout()\n",
        "\n",
        "# Show the plot\n",
        "plt.show()\n"
      ],
      "metadata": {
        "id": "Yki7hDK5xJCT",
        "outputId": "8cd97474-5184-432f-9ae2-f9f009b76f62",
        "colab": {
          "base_uri": "https://localhost:8080/",
          "height": 913
        }
      },
      "execution_count": 20,
      "outputs": [
        {
          "output_type": "stream",
          "name": "stdout",
          "text": [
            "         Date stdorToU      LCLid  Daily KWH\n",
            "0  2011-11-23      Std  MAC000145      8.952\n",
            "1  2011-11-23      Std  MAC000148      1.283\n",
            "2  2011-11-23      Std  MAC000149      2.287\n",
            "3  2011-11-23      Std  MAC000150      9.254\n",
            "4  2011-11-23      Std  MAC000151      3.273\n",
            "          Date stdorToU      LCLid  Daily KWH\n",
            "11  2011-11-23      ToU  MAC000146      5.619\n",
            "12  2011-11-23      ToU  MAC000147      3.036\n",
            "34  2011-11-24      ToU  MAC000146      8.564\n",
            "35  2011-11-24      ToU  MAC000147      7.489\n",
            "36  2011-11-24      ToU  MAC000158      3.181\n"
          ]
        },
        {
          "output_type": "stream",
          "name": "stderr",
          "text": [
            "<ipython-input-20-0524518c5ac2>:20: UserWarning: Creating legend with loc=\"best\" can be slow with large amounts of data.\n",
            "  plt.tight_layout()\n",
            "/usr/local/lib/python3.10/dist-packages/IPython/core/pylabtools.py:151: UserWarning: Creating legend with loc=\"best\" can be slow with large amounts of data.\n",
            "  fig.canvas.print_figure(bytes_io, **kw)\n"
          ]
        },
        {
          "output_type": "display_data",
          "data": {
            "text/plain": [
              "<Figure size 1400x700 with 1 Axes>"
            ],
            "image/png": "[encoded data removed]"
          },
          "metadata": {}
        }
      ]
    },
    {
      "cell_type": "code",
      "source": [
        "def preprocess_data(df, time_step):\n",
        "    data = df['Daily KWH'].values\n",
        "    dates = df['Date'].values  # Using 'Date' column\n",
        "    data = data.reshape(-1, 1)\n",
        "    scaler = MinMaxScaler(feature_range=(0, 1))\n",
        "    data = scaler.fit_transform(data)\n",
        "\n",
        "    X, y, datestamps = [], [], []\n",
        "    for i in range(len(data) - time_step - 1):\n",
        "        X.append(data[i:(i + time_step), 0])\n",
        "        y.append(data[i + time_step, 0])\n",
        "        datestamps.append(dates[i + time_step])  # Store corresponding date\n",
        "    X = np.array(X)\n",
        "    y = np.array(y)\n",
        "    X = np.reshape(X, (X.shape[0], X.shape[1], 1))\n",
        "    datestamps = np.array(datestamps)  # Convert list to numpy array\n",
        "    return X, y, scaler, datestamps\n"
      ],
      "metadata": {
        "id": "-wQBq4RMLo5q"
      },
      "execution_count": 21,
      "outputs": []
    },
    {
      "cell_type": "code",
      "source": [
        "# Check for NaNs in the input data for the standard users\n",
        "if df_standard.isnull().values.any():\n",
        "    print(\"NaN values found in the input data for standard users.\")\n",
        "else:\n",
        "    print(\"No NaN values in the input data for standard users.\")\n"
      ],
      "metadata": {
        "id": "dIOWol4TrBA4",
        "outputId": "b31c5643-0893-4b2e-c648-3780f1227f52",
        "colab": {
          "base_uri": "https://localhost:8080/"
        }
      },
      "execution_count": null,
      "outputs": [
        {
          "output_type": "stream",
          "name": "stdout",
          "text": [
            "No NaN values in the input data for standard users.\n"
          ]
        }
      ]
    },
    {
      "cell_type": "code",
      "source": [
        "# Preprocess the data\n",
        "time_step = 8  # number of previous timesteps to use for prediction\n",
        "X_dynamic, y_dynamic, scaler_dynamic, date_stamps_dynamic = preprocess_data(df_dynamic, time_step)\n",
        "X_standard, y_standard, scaler_standard, date_stamps_standard = preprocess_data(df_standard, time_step)\n",
        "\n",
        "# Split the data into training and testing sets\n",
        "X_train_dyn, X_test_dyn, y_train_dyn, y_test_dyn = train_test_split(X_dynamic, y_dynamic, test_size=0.2, random_state=42)\n",
        "X_train_std, X_test_std, y_train_std, y_test_std = train_test_split(X_standard, y_standard, test_size=0.2, random_state=42)"
      ],
      "metadata": {
        "id": "LDbVrOpRxUNH"
      },
      "execution_count": 22,
      "outputs": []
    },
    {
      "cell_type": "code",
      "source": [
        "# Build LSTM model\n",
        "def build_lstm_model(input_shape, units=50, dropout_rate=0.2, learning_rate=0.001):\n",
        "    print(f\"Building LSTM model with input shape: {input_shape}\")\n",
        "    model = Sequential()\n",
        "    model.add(LSTM(units, return_sequences=True, input_shape=input_shape))\n",
        "    model.add(Dropout(dropout_rate))\n",
        "    model.add(LSTM(units, return_sequences=False))\n",
        "    model.add(Dropout(dropout_rate))\n",
        "    model.add(Dense(25))\n",
        "    model.add(Dense(1))\n",
        "    model.compile(optimizer=tf.keras.optimizers.Adam(learning_rate=learning_rate), loss='mean_squared_error')\n",
        "    return model\n"
      ],
      "metadata": {
        "id": "JuzLFKL4xZKz"
      },
      "execution_count": 23,
      "outputs": []
    },
    {
      "cell_type": "code",
      "source": [
        "# Train the LSTM model for dynamic users\n",
        "model_dynamic = build_lstm_model(input_shape=(X_train_dyn.shape[1], X_train_dyn.shape[2]))\n",
        "history_dynamic = model_dynamic.fit(X_train_dyn, y_train_dyn, epochs=20, batch_size=32, validation_data=(X_test_dyn, y_test_dyn), verbose=1)\n"
      ],
      "metadata": {
        "id": "PIVsU-3P7_P0",
        "outputId": "fbb7bc2a-6af7-466b-858b-5d38aa85fe6a",
        "colab": {
          "base_uri": "https://localhost:8080/"
        }
      },
      "execution_count": 24,
      "outputs": [
        {
          "output_type": "stream",
          "name": "stdout",
          "text": [
            "Building LSTM model with input shape: (8, 1)\n"
          ]
        },
        {
          "output_type": "stream",
          "name": "stderr",
          "text": [
            "/usr/local/lib/python3.10/dist-packages/keras/src/layers/rnn/rnn.py:204: UserWarning: Do not pass an `input_shape`/`input_dim` argument to a layer. When using Sequential models, prefer using an `Input(shape)` object as the first layer in the model instead.\n",
            "  super().__init__(**kwargs)\n"
          ]
        },
        {
          "output_type": "stream",
          "name": "stdout",
          "text": [
            "Epoch 1/20\n",
            "\u001b[1m16849/16849\u001b[0m \u001b[32m━━━━━━━━━━━━━━━━━━━━\u001b[0m\u001b[37m\u001b[0m \u001b[1m98s\u001b[0m 6ms/step - loss: 0.0431 - val_loss: 0.0429\n",
            "Epoch 2/20\n",
            "\u001b[1m16849/16849\u001b[0m \u001b[32m━━━━━━━━━━━━━━━━━━━━\u001b[0m\u001b[37m\u001b[0m \u001b[1m93s\u001b[0m 6ms/step - loss: 0.0425 - val_loss: 0.0421\n",
            "Epoch 3/20\n",
            "\u001b[1m16849/16849\u001b[0m \u001b[32m━━━━━━━━━━━━━━━━━━━━\u001b[0m\u001b[37m\u001b[0m \u001b[1m96s\u001b[0m 6ms/step - loss: 0.0424 - val_loss: 0.0421\n",
            "Epoch 4/20\n",
            "\u001b[1m16849/16849\u001b[0m \u001b[32m━━━━━━━━━━━━━━━━━━━━\u001b[0m\u001b[37m\u001b[0m \u001b[1m109s\u001b[0m 6ms/step - loss: 0.0422 - val_loss: 0.0417\n",
            "Epoch 5/20\n",
            "\u001b[1m16849/16849\u001b[0m \u001b[32m━━━━━━━━━━━━━━━━━━━━\u001b[0m\u001b[37m\u001b[0m \u001b[1m102s\u001b[0m 6ms/step - loss: 0.0419 - val_loss: 0.0413\n",
            "Epoch 6/20\n",
            "\u001b[1m16849/16849\u001b[0m \u001b[32m━━━━━━━━━━━━━━━━━━━━\u001b[0m\u001b[37m\u001b[0m \u001b[1m94s\u001b[0m 6ms/step - loss: 0.0414 - val_loss: 0.0407\n",
            "Epoch 7/20\n",
            "\u001b[1m16849/16849\u001b[0m \u001b[32m━━━━━━━━━━━━━━━━━━━━\u001b[0m\u001b[37m\u001b[0m \u001b[1m95s\u001b[0m 6ms/step - loss: 0.0409 - val_loss: 0.0399\n",
            "Epoch 8/20\n",
            "\u001b[1m16849/16849\u001b[0m \u001b[32m━━━━━━━━━━━━━━━━━━━━\u001b[0m\u001b[37m\u001b[0m \u001b[1m96s\u001b[0m 6ms/step - loss: 0.0403 - val_loss: 0.0396\n",
            "Epoch 9/20\n",
            "\u001b[1m16849/16849\u001b[0m \u001b[32m━━━━━━━━━━━━━━━━━━━━\u001b[0m\u001b[37m\u001b[0m \u001b[1m96s\u001b[0m 6ms/step - loss: 0.0399 - val_loss: 0.0394\n",
            "Epoch 10/20\n",
            "\u001b[1m16849/16849\u001b[0m \u001b[32m━━━━━━━━━━━━━━━━━━━━\u001b[0m\u001b[37m\u001b[0m \u001b[1m94s\u001b[0m 6ms/step - loss: 0.0394 - val_loss: 0.0388\n",
            "Epoch 11/20\n",
            "\u001b[1m16849/16849\u001b[0m \u001b[32m━━━━━━━━━━━━━━━━━━━━\u001b[0m\u001b[37m\u001b[0m \u001b[1m92s\u001b[0m 5ms/step - loss: 0.0392 - val_loss: 0.0384\n",
            "Epoch 12/20\n",
            "\u001b[1m16849/16849\u001b[0m \u001b[32m━━━━━━━━━━━━━━━━━━━━\u001b[0m\u001b[37m\u001b[0m \u001b[1m92s\u001b[0m 5ms/step - loss: 0.0387 - val_loss: 0.0381\n",
            "Epoch 13/20\n",
            "\u001b[1m16849/16849\u001b[0m \u001b[32m━━━━━━━━━━━━━━━━━━━━\u001b[0m\u001b[37m\u001b[0m \u001b[1m92s\u001b[0m 5ms/step - loss: 0.0383 - val_loss: 0.0379\n",
            "Epoch 14/20\n",
            "\u001b[1m16849/16849\u001b[0m \u001b[32m━━━━━━━━━━━━━━━━━━━━\u001b[0m\u001b[37m\u001b[0m \u001b[1m93s\u001b[0m 5ms/step - loss: 0.0383 - val_loss: 0.0376\n",
            "Epoch 15/20\n",
            "\u001b[1m16849/16849\u001b[0m \u001b[32m━━━━━━━━━━━━━━━━━━━━\u001b[0m\u001b[37m\u001b[0m \u001b[1m93s\u001b[0m 6ms/step - loss: 0.0381 - val_loss: 0.0375\n",
            "Epoch 16/20\n",
            "\u001b[1m16849/16849\u001b[0m \u001b[32m━━━━━━━━━━━━━━━━━━━━\u001b[0m\u001b[37m\u001b[0m \u001b[1m93s\u001b[0m 6ms/step - loss: 0.0378 - val_loss: 0.0375\n",
            "Epoch 17/20\n",
            "\u001b[1m16849/16849\u001b[0m \u001b[32m━━━━━━━━━━━━━━━━━━━━\u001b[0m\u001b[37m\u001b[0m \u001b[1m94s\u001b[0m 6ms/step - loss: 0.0378 - val_loss: 0.0373\n",
            "Epoch 18/20\n",
            "\u001b[1m16849/16849\u001b[0m \u001b[32m━━━━━━━━━━━━━━━━━━━━\u001b[0m\u001b[37m\u001b[0m \u001b[1m93s\u001b[0m 6ms/step - loss: 0.0375 - val_loss: 0.0373\n",
            "Epoch 19/20\n",
            "\u001b[1m16849/16849\u001b[0m \u001b[32m━━━━━━━━━━━━━━━━━━━━\u001b[0m\u001b[37m\u001b[0m \u001b[1m93s\u001b[0m 6ms/step - loss: 0.0374 - val_loss: 0.0370\n",
            "Epoch 20/20\n",
            "\u001b[1m16849/16849\u001b[0m \u001b[32m━━━━━━━━━━━━━━━━━━━━\u001b[0m\u001b[37m\u001b[0m \u001b[1m93s\u001b[0m 5ms/step - loss: 0.0373 - val_loss: 0.0370\n"
          ]
        }
      ]
    },
    {
      "cell_type": "code",
      "source": [
        "# Train the LSTM model for standard users\n",
        "model_standard = build_lstm_model(input_shape=(X_train_std.shape[1], X_train_std.shape[2]))\n",
        "history_standard = model_standard.fit(X_train_std, y_train_std, epochs=20, batch_size=32, validation_data=(X_test_std, y_test_std), verbose=1)\n"
      ],
      "metadata": {
        "id": "DWssWwxS6T7A",
        "outputId": "b2aaf2e7-a73f-4a03-d023-5706da7ce275",
        "colab": {
          "base_uri": "https://localhost:8080/"
        }
      },
      "execution_count": 27,
      "outputs": [
        {
          "output_type": "stream",
          "name": "stdout",
          "text": [
            "Building LSTM model with input shape: (8, 1)\n"
          ]
        },
        {
          "output_type": "stream",
          "name": "stderr",
          "text": [
            "/usr/local/lib/python3.10/dist-packages/keras/src/layers/rnn/rnn.py:204: UserWarning: Do not pass an `input_shape`/`input_dim` argument to a layer. When using Sequential models, prefer using an `Input(shape)` object as the first layer in the model instead.\n",
            "  super().__init__(**kwargs)\n"
          ]
        },
        {
          "output_type": "stream",
          "name": "stdout",
          "text": [
            "Epoch 1/20\n",
            "\u001b[1m65873/65873\u001b[0m \u001b[32m━━━━━━━━━━━━━━━━━━━━\u001b[0m\u001b[37m\u001b[0m \u001b[1m361s\u001b[0m 5ms/step - loss: 0.0459 - val_loss: 0.0456\n",
            "Epoch 2/20\n",
            "\u001b[1m65873/65873\u001b[0m \u001b[32m━━━━━━━━━━━━━━━━━━━━\u001b[0m\u001b[37m\u001b[0m \u001b[1m360s\u001b[0m 5ms/step - loss: 0.0455 - val_loss: 0.0454\n",
            "Epoch 3/20\n",
            "\u001b[1m65873/65873\u001b[0m \u001b[32m━━━━━━━━━━━━━━━━━━━━\u001b[0m\u001b[37m\u001b[0m \u001b[1m361s\u001b[0m 5ms/step - loss: 0.0453 - val_loss: 0.0451\n",
            "Epoch 4/20\n",
            "\u001b[1m65873/65873\u001b[0m \u001b[32m━━━━━━━━━━━━━━━━━━━━\u001b[0m\u001b[37m\u001b[0m \u001b[1m363s\u001b[0m 6ms/step - loss: 0.0450 - val_loss: 0.0449\n",
            "Epoch 5/20\n",
            "\u001b[1m65873/65873\u001b[0m \u001b[32m━━━━━━━━━━━━━━━━━━━━\u001b[0m\u001b[37m\u001b[0m \u001b[1m365s\u001b[0m 6ms/step - loss: 0.0448 - val_loss: 0.0447\n",
            "Epoch 6/20\n",
            "\u001b[1m65873/65873\u001b[0m \u001b[32m━━━━━━━━━━━━━━━━━━━━\u001b[0m\u001b[37m\u001b[0m \u001b[1m364s\u001b[0m 6ms/step - loss: 0.0448 - val_loss: 0.0445\n",
            "Epoch 7/20\n",
            "\u001b[1m65873/65873\u001b[0m \u001b[32m━━━━━━━━━━━━━━━━━━━━\u001b[0m\u001b[37m\u001b[0m \u001b[1m368s\u001b[0m 6ms/step - loss: 0.0445 - val_loss: 0.0445\n",
            "Epoch 8/20\n",
            "\u001b[1m65873/65873\u001b[0m \u001b[32m━━━━━━━━━━━━━━━━━━━━\u001b[0m\u001b[37m\u001b[0m \u001b[1m364s\u001b[0m 6ms/step - loss: 0.0444 - val_loss: 0.0441\n",
            "Epoch 9/20\n",
            "\u001b[1m65873/65873\u001b[0m \u001b[32m━━━━━━━━━━━━━━━━━━━━\u001b[0m\u001b[37m\u001b[0m \u001b[1m365s\u001b[0m 6ms/step - loss: 0.0442 - val_loss: 0.0440\n",
            "Epoch 10/20\n",
            "\u001b[1m65873/65873\u001b[0m \u001b[32m━━━━━━━━━━━━━━━━━━━━\u001b[0m\u001b[37m\u001b[0m \u001b[1m364s\u001b[0m 6ms/step - loss: 0.0441 - val_loss: 0.0439\n",
            "Epoch 11/20\n",
            "\u001b[1m65873/65873\u001b[0m \u001b[32m━━━━━━━━━━━━━━━━━━━━\u001b[0m\u001b[37m\u001b[0m \u001b[1m366s\u001b[0m 6ms/step - loss: 0.0440 - val_loss: 0.0438\n",
            "Epoch 12/20\n",
            "\u001b[1m65873/65873\u001b[0m \u001b[32m━━━━━━━━━━━━━━━━━━━━\u001b[0m\u001b[37m\u001b[0m \u001b[1m368s\u001b[0m 6ms/step - loss: 0.0439 - val_loss: 0.0438\n",
            "Epoch 13/20\n",
            "\u001b[1m65873/65873\u001b[0m \u001b[32m━━━━━━━━━━━━━━━━━━━━\u001b[0m\u001b[37m\u001b[0m \u001b[1m369s\u001b[0m 6ms/step - loss: 0.0438 - val_loss: 0.0437\n",
            "Epoch 14/20\n",
            "\u001b[1m65873/65873\u001b[0m \u001b[32m━━━━━━━━━━━━━━━━━━━━\u001b[0m\u001b[37m\u001b[0m \u001b[1m368s\u001b[0m 6ms/step - loss: 0.0438 - val_loss: 0.0437\n",
            "Epoch 15/20\n",
            "\u001b[1m65873/65873\u001b[0m \u001b[32m━━━━━━━━━━━━━━━━━━━━\u001b[0m\u001b[37m\u001b[0m \u001b[1m370s\u001b[0m 6ms/step - loss: 0.0436 - val_loss: 0.0436\n",
            "Epoch 16/20\n",
            "\u001b[1m65873/65873\u001b[0m \u001b[32m━━━━━━━━━━━━━━━━━━━━\u001b[0m\u001b[37m\u001b[0m \u001b[1m370s\u001b[0m 6ms/step - loss: 0.0437 - val_loss: 0.0436\n",
            "Epoch 17/20\n",
            "\u001b[1m65873/65873\u001b[0m \u001b[32m━━━━━━━━━━━━━━━━━━━━\u001b[0m\u001b[37m\u001b[0m \u001b[1m369s\u001b[0m 6ms/step - loss: 0.0436 - val_loss: 0.0434\n",
            "Epoch 18/20\n",
            "\u001b[1m65873/65873\u001b[0m \u001b[32m━━━━━━━━━━━━━━━━━━━━\u001b[0m\u001b[37m\u001b[0m \u001b[1m371s\u001b[0m 6ms/step - loss: 0.0435 - val_loss: 0.0435\n",
            "Epoch 19/20\n",
            "\u001b[1m65873/65873\u001b[0m \u001b[32m━━━━━━━━━━━━━━━━━━━━\u001b[0m\u001b[37m\u001b[0m \u001b[1m369s\u001b[0m 6ms/step - loss: 0.0434 - val_loss: 0.0434\n",
            "Epoch 20/20\n",
            "\u001b[1m65873/65873\u001b[0m \u001b[32m━━━━━━━━━━━━━━━━━━━━\u001b[0m\u001b[37m\u001b[0m \u001b[1m372s\u001b[0m 6ms/step - loss: 0.0434 - val_loss: 0.0433\n"
          ]
        }
      ]
    },
    {
      "cell_type": "code",
      "source": [
        "# Predict consumption for dynamic users\n",
        "pred_dynamic = model_dynamic.predict(X_test_dyn)\n",
        "\n",
        "# Predict consumption for standard users\n",
        "pred_standard = model_standard.predict(X_test_std)"
      ],
      "metadata": {
        "id": "VTUXsXnH8-KX",
        "outputId": "4a4c9d6f-ebd3-47a6-c74f-f6a48f3c161d",
        "colab": {
          "base_uri": "https://localhost:8080/"
        }
      },
      "execution_count": 28,
      "outputs": [
        {
          "output_type": "stream",
          "name": "stdout",
          "text": [
            "\u001b[1m4213/4213\u001b[0m \u001b[32m━━━━━━━━━━━━━━━━━━━━\u001b[0m\u001b[37m\u001b[0m \u001b[1m7s\u001b[0m 2ms/step\n",
            "\u001b[1m16469/16469\u001b[0m \u001b[32m━━━━━━━━━━━━━━━━━━━━\u001b[0m\u001b[37m\u001b[0m \u001b[1m26s\u001b[0m 2ms/step\n"
          ]
        }
      ]
    },
    {
      "cell_type": "code",
      "source": [
        "# Check for NaNs in the predictions\n",
        "if np.any(np.isnan(pred_standard)):\n",
        "    print(\"NaN values found in standard TOU predictions.\")\n",
        "else:\n",
        "    print(\"No NaN values in standard TOU predictions.\")\n"
      ],
      "metadata": {
        "id": "2rinTrhenXcy",
        "outputId": "ba134be2-ca4b-421a-ea29-96c38e9dedd4",
        "colab": {
          "base_uri": "https://localhost:8080/"
        }
      },
      "execution_count": null,
      "outputs": [
        {
          "output_type": "stream",
          "name": "stdout",
          "text": [
            "No NaN values in standard TOU predictions.\n"
          ]
        }
      ]
    },
    {
      "cell_type": "code",
      "source": [
        "# Inverse transform the predictions for dynamic users\n",
        "pred_dynamic = scaler_dynamic.inverse_transform(pred_dynamic)\n",
        "y_test_dyn_inverse = scaler_dynamic.inverse_transform(y_test_dyn.reshape(-1, 1))\n",
        "\n",
        "# Inverse transform the predictions for standard users\n",
        "pred_standard = scaler_standard.inverse_transform(pred_standard)\n",
        "y_test_std_inverse = scaler_standard.inverse_transform(y_test_std.reshape(-1, 1))"
      ],
      "metadata": {
        "id": "51NKh9Z69FAc"
      },
      "execution_count": 29,
      "outputs": []
    },
    {
      "cell_type": "markdown",
      "source": [],
      "metadata": {
        "id": "UKxBq4Z5OWwm"
      }
    },
    {
      "cell_type": "code",
      "source": [
        "# Find peak consumption values for dynamic users\n",
        "peak_dynamic_value = max(pred_dynamic)\n",
        "peak_dynamic_time = y_test_dyn_inverse[np.argmax(pred_dynamic)]\n",
        "\n",
        "# Find peak consumption values for standard users\n",
        "peak_standard_value = max(pred_standard)\n",
        "peak_standard_time = y_test_std_inverse[np.argmax(pred_standard)]\n"
      ],
      "metadata": {
        "id": "9xqnl5Hp9Un5"
      },
      "execution_count": 30,
      "outputs": []
    },
    {
      "cell_type": "code",
      "source": [
        "print(f\"Peak Dynamic TOU Consumption Value: {peak_dynamic_value}\")\n",
        "print(f\"Corresponding Actual Dynamic TOU Consumption Value: {peak_dynamic_time}\")\n",
        "\n",
        "print(f\"Peak Standard Consumption Value: {peak_standard_value}\")\n",
        "print(f\"Corresponding Actual Standard TOU Consumption Value: {peak_standard_time}\")\n"
      ],
      "metadata": {
        "id": "8t-cLW_z9YDW",
        "outputId": "3df50fa5-33b8-41bd-9722-4e7a593aa5be",
        "colab": {
          "base_uri": "https://localhost:8080/"
        }
      },
      "execution_count": 31,
      "outputs": [
        {
          "output_type": "stream",
          "name": "stdout",
          "text": [
            "Peak Dynamic TOU Consumption Value: [21.131023]\n",
            "Corresponding Actual Dynamic TOU Consumption Value: [22.235]\n",
            "Peak Standard Consumption Value: [21.089897]\n",
            "Corresponding Actual Standard TOU Consumption Value: [23.554]\n"
          ]
        }
      ]
    },
    {
      "cell_type": "code",
      "source": [
        "# Calculate MAE for dynamic users\n",
        "mae_dynamic = mean_absolute_error(y_test_dyn_inverse, pred_dynamic)\n",
        "print(f\"Dynamic TOU MAE: {mae_dynamic}\")\n",
        "\n",
        "# Calculate MAE for standard users\n",
        "mae_standard = mean_absolute_error(y_test_std_inverse, pred_standard)\n",
        "print(f\"Standard TOU MAE: {mae_standard}\")\n"
      ],
      "metadata": {
        "id": "TQzGSdBZ8nsa",
        "outputId": "82c3174b-feba-4234-e82a-b0ae044b10ac",
        "colab": {
          "base_uri": "https://localhost:8080/"
        }
      },
      "execution_count": 32,
      "outputs": [
        {
          "output_type": "stream",
          "name": "stdout",
          "text": [
            "Dynamic TOU MAE: 3.6697385415736408\n",
            "Standard TOU MAE: 4.033721544295756\n"
          ]
        }
      ]
    },
    {
      "cell_type": "code",
      "source": [
        "# Plot the predictions vs actual values for dynamic TOU users\n",
        "plt.figure(figsize=(14, 7))\n",
        "plt.plot(y_test_dyn_inverse, color='black', label='Actual Values')\n",
        "plt.plot(pred_dynamic, color='red', label='Predicted Values')\n",
        "plt.title('Dynamic TOU Consumption: Actual vs Predicted')\n",
        "plt.xlabel('Time')\n",
        "plt.ylabel('Energy Consumption')\n",
        "plt.legend()\n",
        "plt.show()\n",
        "\n",
        "\n"
      ],
      "metadata": {
        "id": "ZfesCp84Rj_v",
        "outputId": "33191bec-dce8-41ce-ef7b-c6d7d374f32d",
        "colab": {
          "base_uri": "https://localhost:8080/",
          "height": 641
        }
      },
      "execution_count": 33,
      "outputs": [
        {
          "output_type": "display_data",
          "data": {
            "text/plain": [
              "<Figure size 1400x700 with 1 Axes>"
            ],
            "image/png": "[encoded data removed]"
          },
          "metadata": {}
        }
      ]
    },
    {
      "cell_type": "code",
      "source": [
        "model = KerasRegressor(build_fn=build_lstm_model, input_shape = (8,1), epochs=1, batch_size=32, verbose=0, dropout_rate=0.2, learning_rate=0.001, units=50)"
      ],
      "metadata": {
        "id": "Q0ZEAaw_sj5r"
      },
      "execution_count": 34,
      "outputs": []
    },
    {
      "cell_type": "code",
      "source": [
        "param_grid = {\n",
        "    'units': [50, 100],\n",
        "    'dropout_rate': [0.2, 0.3],\n",
        "    'learning_rate': [0.001, 0.01],\n",
        "    'batch_size': [32, 64],\n",
        "    'epochs': [10, 20]\n",
        "}\n",
        "\n",
        "from sklearn.model_selection import GridSearchCV\n",
        "\n",
        "grid = GridSearchCV(estimator=model, param_grid=param_grid, cv=3, n_jobs=-1, scoring='neg_mean_squared_error')\n",
        "grid_result = grid.fit(X_train_dyn, y_train_dyn)\n",
        "\n",
        "# Print the best parameters and score\n",
        "print(f\"Best parameters found: {grid_result.best_params_}\")\n",
        "print(f\"Best score found: {grid_result.best_score_}\")\n"
      ],
      "metadata": {
        "id": "Nh7zGTDEsmnG",
        "outputId": "a96012de-c22d-4450-fead-8201b1b2103a",
        "colab": {
          "base_uri": "https://localhost:8080/"
        }
      },
      "execution_count": null,
      "outputs": [
        {
          "output_type": "stream",
          "name": "stderr",
          "text": [
            "/usr/local/lib/python3.10/dist-packages/joblib/externals/loky/backend/fork_exec.py:38: RuntimeWarning: os.fork() was called. os.fork() is incompatible with multithreaded code, and JAX is multithreaded, so this will likely lead to a deadlock.\n",
            "  pid = os.fork()\n"
          ]
        }
      ]
    },
    {
      "cell_type": "code",
      "source": [
        "# Build LSTM model\n",
        "def best_grid_lstm_model(input_shape, units=100, dropout_rate=0.2, learning_rate=0.01):\n",
        "    print(f\"Building LSTM model with input shape: {input_shape}\")\n",
        "    model = Sequential()\n",
        "    model.add(LSTM(units, return_sequences=True, input_shape=input_shape))\n",
        "    model.add(Dropout(dropout_rate))\n",
        "    model.add(LSTM(units, return_sequences=False))\n",
        "    model.add(Dropout(dropout_rate))\n",
        "    model.add(Dense(25))\n",
        "    model.add(Dense(1))\n",
        "    model.compile(optimizer=tf.keras.optimizers.Adam(learning_rate=learning_rate), loss='mean_squared_error')\n",
        "    return model"
      ],
      "metadata": {
        "id": "2xg1ULKzNJx4"
      },
      "execution_count": null,
      "outputs": []
    },
    {
      "cell_type": "code",
      "source": [
        "best_model_dynamic = best_grid_lstm_model(input_shape=(X_train_dyn.shape[1], X_train_dyn.shape[2]))\n",
        "history_best_dynamic = best_model_dynamic.fit(X_train_dyn, y_train_dyn, epochs=20, batch_size=32, validation_data=(X_test_dyn, y_test_dyn), verbose=1)"
      ],
      "metadata": {
        "id": "LipnOPXYNYGA",
        "outputId": "e883ec04-c534-4a49-f308-58d555998962",
        "colab": {
          "base_uri": "https://localhost:8080/"
        }
      },
      "execution_count": null,
      "outputs": [
        {
          "output_type": "stream",
          "name": "stdout",
          "text": [
            "Building LSTM model with input shape: (8, 1)\n",
            "Epoch 1/20\n",
            "\u001b[1m435/435\u001b[0m \u001b[32m━━━━━━━━━━━━━━━━━━━━\u001b[0m\u001b[37m\u001b[0m \u001b[1m5s\u001b[0m 7ms/step - loss: 0.0517 - val_loss: 0.0414\n",
            "Epoch 2/20\n",
            "\u001b[1m435/435\u001b[0m \u001b[32m━━━━━━━━━━━━━━━━━━━━\u001b[0m\u001b[37m\u001b[0m \u001b[1m3s\u001b[0m 8ms/step - loss: 0.0420 - val_loss: 0.0392\n",
            "Epoch 3/20\n",
            "\u001b[1m435/435\u001b[0m \u001b[32m━━━━━━━━━━━━━━━━━━━━\u001b[0m\u001b[37m\u001b[0m \u001b[1m4s\u001b[0m 8ms/step - loss: 0.0394 - val_loss: 0.0351\n",
            "Epoch 4/20\n",
            "\u001b[1m435/435\u001b[0m \u001b[32m━━━━━━━━━━━━━━━━━━━━\u001b[0m\u001b[37m\u001b[0m \u001b[1m3s\u001b[0m 6ms/step - loss: 0.0360 - val_loss: 0.0340\n",
            "Epoch 5/20\n",
            "\u001b[1m435/435\u001b[0m \u001b[32m━━━━━━━━━━━━━━━━━━━━\u001b[0m\u001b[37m\u001b[0m \u001b[1m5s\u001b[0m 6ms/step - loss: 0.0343 - val_loss: 0.0325\n",
            "Epoch 6/20\n",
            "\u001b[1m435/435\u001b[0m \u001b[32m━━━━━━━━━━━━━━━━━━━━\u001b[0m\u001b[37m\u001b[0m \u001b[1m4s\u001b[0m 9ms/step - loss: 0.0327 - val_loss: 0.0311\n",
            "Epoch 7/20\n",
            "\u001b[1m435/435\u001b[0m \u001b[32m━━━━━━━━━━━━━━━━━━━━\u001b[0m\u001b[37m\u001b[0m \u001b[1m4s\u001b[0m 6ms/step - loss: 0.0304 - val_loss: 0.0306\n",
            "Epoch 8/20\n",
            "\u001b[1m435/435\u001b[0m \u001b[32m━━━━━━━━━━━━━━━━━━━━\u001b[0m\u001b[37m\u001b[0m \u001b[1m5s\u001b[0m 6ms/step - loss: 0.0293 - val_loss: 0.0296\n",
            "Epoch 9/20\n",
            "\u001b[1m435/435\u001b[0m \u001b[32m━━━━━━━━━━━━━━━━━━━━\u001b[0m\u001b[37m\u001b[0m \u001b[1m4s\u001b[0m 8ms/step - loss: 0.0283 - val_loss: 0.0285\n",
            "Epoch 10/20\n",
            "\u001b[1m435/435\u001b[0m \u001b[32m━━━━━━━━━━━━━━━━━━━━\u001b[0m\u001b[37m\u001b[0m \u001b[1m4s\u001b[0m 6ms/step - loss: 0.0279 - val_loss: 0.0281\n",
            "Epoch 11/20\n",
            "\u001b[1m435/435\u001b[0m \u001b[32m━━━━━━━━━━━━━━━━━━━━\u001b[0m\u001b[37m\u001b[0m \u001b[1m5s\u001b[0m 6ms/step - loss: 0.0273 - val_loss: 0.0281\n",
            "Epoch 12/20\n",
            "\u001b[1m435/435\u001b[0m \u001b[32m━━━━━━━━━━━━━━━━━━━━\u001b[0m\u001b[37m\u001b[0m \u001b[1m3s\u001b[0m 7ms/step - loss: 0.0270 - val_loss: 0.0285\n",
            "Epoch 13/20\n",
            "\u001b[1m435/435\u001b[0m \u001b[32m━━━━━━━━━━━━━━━━━━━━\u001b[0m\u001b[37m\u001b[0m \u001b[1m5s\u001b[0m 6ms/step - loss: 0.0262 - val_loss: 0.0275\n",
            "Epoch 14/20\n",
            "\u001b[1m435/435\u001b[0m \u001b[32m━━━━━━━━━━━━━━━━━━━━\u001b[0m\u001b[37m\u001b[0m \u001b[1m5s\u001b[0m 6ms/step - loss: 0.0258 - val_loss: 0.0273\n",
            "Epoch 15/20\n",
            "\u001b[1m435/435\u001b[0m \u001b[32m━━━━━━━━━━━━━━━━━━━━\u001b[0m\u001b[37m\u001b[0m \u001b[1m3s\u001b[0m 7ms/step - loss: 0.0260 - val_loss: 0.0278\n",
            "Epoch 16/20\n",
            "\u001b[1m435/435\u001b[0m \u001b[32m━━━━━━━━━━━━━━━━━━━━\u001b[0m\u001b[37m\u001b[0m \u001b[1m5s\u001b[0m 6ms/step - loss: 0.0256 - val_loss: 0.0263\n",
            "Epoch 17/20\n",
            "\u001b[1m435/435\u001b[0m \u001b[32m━━━━━━━━━━━━━━━━━━━━\u001b[0m\u001b[37m\u001b[0m \u001b[1m5s\u001b[0m 6ms/step - loss: 0.0255 - val_loss: 0.0263\n",
            "Epoch 18/20\n",
            "\u001b[1m435/435\u001b[0m \u001b[32m━━━━━━━━━━━━━━━━━━━━\u001b[0m\u001b[37m\u001b[0m \u001b[1m3s\u001b[0m 7ms/step - loss: 0.0241 - val_loss: 0.0275\n",
            "Epoch 19/20\n",
            "\u001b[1m435/435\u001b[0m \u001b[32m━━━━━━━━━━━━━━━━━━━━\u001b[0m\u001b[37m\u001b[0m \u001b[1m4s\u001b[0m 9ms/step - loss: 0.0245 - val_loss: 0.0267\n",
            "Epoch 20/20\n",
            "\u001b[1m435/435\u001b[0m \u001b[32m━━━━━━━━━━━━━━━━━━━━\u001b[0m\u001b[37m\u001b[0m \u001b[1m3s\u001b[0m 6ms/step - loss: 0.0240 - val_loss: 0.0260\n"
          ]
        }
      ]
    },
    {
      "cell_type": "code",
      "source": [
        "\n",
        "best_model_standard = best_grid_lstm_model(input_shape=(X_train_std.shape[1], X_train_std.shape[2]))\n",
        "history_best_standard = best_model_standard.fit(X_train_std, y_train_std, epochs=20, batch_size=32, validation_data=(X_test_std, y_test_std), verbose=1)"
      ],
      "metadata": {
        "id": "K2ViGdgiN45H",
        "outputId": "3cc6565a-6a47-4ab9-de1b-0be6a757a6f5",
        "colab": {
          "base_uri": "https://localhost:8080/"
        }
      },
      "execution_count": null,
      "outputs": [
        {
          "output_type": "stream",
          "name": "stdout",
          "text": [
            "Building LSTM model with input shape: (8, 1)\n",
            "Epoch 1/20\n",
            "\u001b[1m75/75\u001b[0m \u001b[32m━━━━━━━━━━━━━━━━━━━━\u001b[0m\u001b[37m\u001b[0m \u001b[1m2s\u001b[0m 9ms/step - loss: 0.0466 - val_loss: 0.0218\n",
            "Epoch 2/20\n",
            "\u001b[1m75/75\u001b[0m \u001b[32m━━━━━━━━━━━━━━━━━━━━\u001b[0m\u001b[37m\u001b[0m \u001b[1m1s\u001b[0m 6ms/step - loss: 0.0230 - val_loss: 0.0213\n",
            "Epoch 3/20\n",
            "\u001b[1m75/75\u001b[0m \u001b[32m━━━━━━━━━━━━━━━━━━━━\u001b[0m\u001b[37m\u001b[0m \u001b[1m1s\u001b[0m 6ms/step - loss: 0.0248 - val_loss: 0.0216\n",
            "Epoch 4/20\n",
            "\u001b[1m75/75\u001b[0m \u001b[32m━━━━━━━━━━━━━━━━━━━━\u001b[0m\u001b[37m\u001b[0m \u001b[1m1s\u001b[0m 7ms/step - loss: 0.0204 - val_loss: 0.0191\n",
            "Epoch 5/20\n",
            "\u001b[1m75/75\u001b[0m \u001b[32m━━━━━━━━━━━━━━━━━━━━\u001b[0m\u001b[37m\u001b[0m \u001b[1m1s\u001b[0m 7ms/step - loss: 0.0207 - val_loss: 0.0196\n",
            "Epoch 6/20\n",
            "\u001b[1m75/75\u001b[0m \u001b[32m━━━━━━━━━━━━━━━━━━━━\u001b[0m\u001b[37m\u001b[0m \u001b[1m1s\u001b[0m 6ms/step - loss: 0.0196 - val_loss: 0.0184\n",
            "Epoch 7/20\n",
            "\u001b[1m75/75\u001b[0m \u001b[32m━━━━━━━━━━━━━━━━━━━━\u001b[0m\u001b[37m\u001b[0m \u001b[1m1s\u001b[0m 7ms/step - loss: 0.0214 - val_loss: 0.0181\n",
            "Epoch 8/20\n",
            "\u001b[1m75/75\u001b[0m \u001b[32m━━━━━━━━━━━━━━━━━━━━\u001b[0m\u001b[37m\u001b[0m \u001b[1m1s\u001b[0m 7ms/step - loss: 0.0196 - val_loss: 0.0174\n",
            "Epoch 9/20\n",
            "\u001b[1m75/75\u001b[0m \u001b[32m━━━━━━━━━━━━━━━━━━━━\u001b[0m\u001b[37m\u001b[0m \u001b[1m1s\u001b[0m 10ms/step - loss: 0.0183 - val_loss: 0.0176\n",
            "Epoch 10/20\n",
            "\u001b[1m75/75\u001b[0m \u001b[32m━━━━━━━━━━━━━━━━━━━━\u001b[0m\u001b[37m\u001b[0m \u001b[1m1s\u001b[0m 10ms/step - loss: 0.0202 - val_loss: 0.0182\n",
            "Epoch 11/20\n",
            "\u001b[1m75/75\u001b[0m \u001b[32m━━━━━━━━━━━━━━━━━━━━\u001b[0m\u001b[37m\u001b[0m \u001b[1m1s\u001b[0m 9ms/step - loss: 0.0172 - val_loss: 0.0182\n",
            "Epoch 12/20\n",
            "\u001b[1m75/75\u001b[0m \u001b[32m━━━━━━━━━━━━━━━━━━━━\u001b[0m\u001b[37m\u001b[0m \u001b[1m1s\u001b[0m 10ms/step - loss: 0.0178 - val_loss: 0.0184\n",
            "Epoch 13/20\n",
            "\u001b[1m75/75\u001b[0m \u001b[32m━━━━━━━━━━━━━━━━━━━━\u001b[0m\u001b[37m\u001b[0m \u001b[1m1s\u001b[0m 7ms/step - loss: 0.0187 - val_loss: 0.0167\n",
            "Epoch 14/20\n",
            "\u001b[1m75/75\u001b[0m \u001b[32m━━━━━━━━━━━━━━━━━━━━\u001b[0m\u001b[37m\u001b[0m \u001b[1m1s\u001b[0m 6ms/step - loss: 0.0182 - val_loss: 0.0166\n",
            "Epoch 15/20\n",
            "\u001b[1m75/75\u001b[0m \u001b[32m━━━━━━━━━━━━━━━━━━━━\u001b[0m\u001b[37m\u001b[0m \u001b[1m1s\u001b[0m 7ms/step - loss: 0.0173 - val_loss: 0.0174\n",
            "Epoch 16/20\n",
            "\u001b[1m75/75\u001b[0m \u001b[32m━━━━━━━━━━━━━━━━━━━━\u001b[0m\u001b[37m\u001b[0m \u001b[1m1s\u001b[0m 6ms/step - loss: 0.0191 - val_loss: 0.0168\n",
            "Epoch 17/20\n",
            "\u001b[1m75/75\u001b[0m \u001b[32m━━━━━━━━━━━━━━━━━━━━\u001b[0m\u001b[37m\u001b[0m \u001b[1m1s\u001b[0m 6ms/step - loss: 0.0173 - val_loss: 0.0157\n",
            "Epoch 18/20\n",
            "\u001b[1m75/75\u001b[0m \u001b[32m━━━━━━━━━━━━━━━━━━━━\u001b[0m\u001b[37m\u001b[0m \u001b[1m1s\u001b[0m 7ms/step - loss: 0.0166 - val_loss: 0.0164\n",
            "Epoch 19/20\n",
            "\u001b[1m75/75\u001b[0m \u001b[32m━━━━━━━━━━━━━━━━━━━━\u001b[0m\u001b[37m\u001b[0m \u001b[1m1s\u001b[0m 6ms/step - loss: 0.0162 - val_loss: 0.0163\n",
            "Epoch 20/20\n",
            "\u001b[1m75/75\u001b[0m \u001b[32m━━━━━━━━━━━━━━━━━━━━\u001b[0m\u001b[37m\u001b[0m \u001b[1m1s\u001b[0m 7ms/step - loss: 0.0160 - val_loss: 0.0161\n"
          ]
        }
      ]
    },
    {
      "cell_type": "code",
      "source": [
        "# Predict consumption for dynamic users\n",
        "pred_dynamic1 = best_model_dynamic.predict(X_test_dyn)\n",
        "\n",
        "# Predict consumption for standard users\n",
        "pred_standard1 = best_model_standard.predict(X_test_std)"
      ],
      "metadata": {
        "id": "zuEg8cuAOMtU",
        "outputId": "cc7e6118-91b2-459b-d61d-0a2b2ec9b848",
        "colab": {
          "base_uri": "https://localhost:8080/",
          "height": 211
        }
      },
      "execution_count": 25,
      "outputs": [
        {
          "output_type": "error",
          "ename": "NameError",
          "evalue": "name 'best_model_dynamic' is not defined",
          "traceback": [
            "\u001b[0;31m---------------------------------------------------------------------------\u001b[0m",
            "\u001b[0;31mNameError\u001b[0m                                 Traceback (most recent call last)",
            "\u001b[0;32m<ipython-input-25-c78dc1e71443>\u001b[0m in \u001b[0;36m<cell line: 2>\u001b[0;34m()\u001b[0m\n\u001b[1;32m      1\u001b[0m \u001b[0;31m# Predict consumption for dynamic users\u001b[0m\u001b[0;34m\u001b[0m\u001b[0;34m\u001b[0m\u001b[0m\n\u001b[0;32m----> 2\u001b[0;31m \u001b[0mpred_dynamic1\u001b[0m \u001b[0;34m=\u001b[0m \u001b[0mbest_model_dynamic\u001b[0m\u001b[0;34m.\u001b[0m\u001b[0mpredict\u001b[0m\u001b[0;34m(\u001b[0m\u001b[0mX_test_dyn\u001b[0m\u001b[0;34m)\u001b[0m\u001b[0;34m\u001b[0m\u001b[0;34m\u001b[0m\u001b[0m\n\u001b[0m\u001b[1;32m      3\u001b[0m \u001b[0;34m\u001b[0m\u001b[0m\n\u001b[1;32m      4\u001b[0m \u001b[0;31m# Predict consumption for standard users\u001b[0m\u001b[0;34m\u001b[0m\u001b[0;34m\u001b[0m\u001b[0m\n\u001b[1;32m      5\u001b[0m \u001b[0mpred_standard1\u001b[0m \u001b[0;34m=\u001b[0m \u001b[0mbest_model_standard\u001b[0m\u001b[0;34m.\u001b[0m\u001b[0mpredict\u001b[0m\u001b[0;34m(\u001b[0m\u001b[0mX_test_std\u001b[0m\u001b[0;34m)\u001b[0m\u001b[0;34m\u001b[0m\u001b[0;34m\u001b[0m\u001b[0m\n",
            "\u001b[0;31mNameError\u001b[0m: name 'best_model_dynamic' is not defined"
          ]
        }
      ]
    },
    {
      "cell_type": "code",
      "source": [
        "# Inverse transform the predictions for dynamic users\n",
        "pred_dynamic1 = scaler_dynamic.inverse_transform(pred_dynamic1)\n",
        "y_test_dyn_inverse = scaler_dynamic.inverse_transform(y_test_dyn.reshape(-1, 1))\n",
        "\n",
        "# Inverse transform the predictions for standard users\n",
        "pred_standard1 = scaler_standard.inverse_transform(pred_standard1)\n",
        "y_test_std_inverse = scaler_standard.inverse_transform(y_test_std.reshape(-1, 1))"
      ],
      "metadata": {
        "id": "bTu8RHa6OIk4"
      },
      "execution_count": null,
      "outputs": []
    },
    {
      "cell_type": "code",
      "source": [
        "# Calculate MAE for dynamic users\n",
        "mae_dynamic = mean_absolute_error(y_test_dyn_inverse, pred_dynamic1)\n",
        "print(f\"Dynamic TOU MAE: {mae_dynamic}\")\n",
        "\n",
        "# Calculate MAE for standard users\n",
        "mae_standard = mean_absolute_error(y_test_std_inverse, pred_standard1)\n",
        "print(f\"Standard TOU MAE: {mae_standard}\")\n"
      ],
      "metadata": {
        "id": "kKNA1AzKOpx2",
        "outputId": "5eb13ffe-c253-47de-ec6a-81b95b6e0c13",
        "colab": {
          "base_uri": "https://localhost:8080/"
        }
      },
      "execution_count": null,
      "outputs": [
        {
          "output_type": "stream",
          "name": "stdout",
          "text": [
            "Dynamic TOU MAE: 3.2024750948117724\n",
            "Standard TOU MAE: 2.36961667018746\n"
          ]
        }
      ]
    },
    {
      "cell_type": "code",
      "source": [
        "# Plot the predictions vs actual values for dynamic TOU users\n",
        "plt.figure(figsize=(14, 7))\n",
        "plt.plot(y_test_dyn_inverse, color='black', label='Actual Values')\n",
        "plt.plot(pred_dynamic1, color='red', label='Predicted Values')\n",
        "plt.title('Dynamic TOU Consumption: Actual vs Predicted')\n",
        "plt.xlabel('Time')\n",
        "plt.ylabel('Energy Consumption')\n",
        "plt.legend()\n",
        "plt.show()"
      ],
      "metadata": {
        "id": "Z9fHDlEbO05Q",
        "outputId": "36a8c7e0-bad8-406e-a369-2f6e2e01b7ce",
        "colab": {
          "base_uri": "https://localhost:8080/",
          "height": 641
        }
      },
      "execution_count": null,
      "outputs": [
        {
          "output_type": "display_data",
          "data": {
            "text/plain": [
              "<Figure size 1400x700 with 1 Axes>"
            ],
            "image/png": "[encoded data removed]"
          },
          "metadata": {}
        }
      ]
    },
    {
      "cell_type": "code",
      "source": [
        "df_prophet_dynamic = df_dynamic[['Date', 'Daily KWH']].rename(columns={'Date': 'ds', 'KWH/hh (per half hour) ': 'y'})"
      ],
      "metadata": {
        "id": "F1x52ohHSn7B"
      },
      "execution_count": null,
      "outputs": []
    },
    {
      "cell_type": "code",
      "source": [
        "train_size_dynamic = int(len(df_prophet_dynamic) * 0.8)\n",
        "train_data_dynamic = df_prophet_dynamic[:train_size_dynamic]\n",
        "test_data_dynamic = df_prophet_dynamic[train_size_dynamic:]"
      ],
      "metadata": {
        "id": "vVcd37rlS2QK"
      },
      "execution_count": null,
      "outputs": []
    },
    {
      "cell_type": "code",
      "source": [
        "model_dynamic = Prophet()\n",
        "model_dynamic.fit(train_data_dynamic)"
      ],
      "metadata": {
        "id": "jbnrvPFzS6Ga"
      },
      "execution_count": null,
      "outputs": []
    },
    {
      "cell_type": "code",
      "source": [
        "future_dynamic = model_dynamic.make_future_dataframe(periods=len(test_data_dynamic), freq='D')  # 'H' for hourly data\n",
        "forecast_dynamic = model_dynamic.predict(future_dynamic)"
      ],
      "metadata": {
        "id": "7VZ4Xpw7S8y5"
      },
      "execution_count": null,
      "outputs": []
    },
    {
      "cell_type": "code",
      "source": [
        "forecast_test_dynamic = forecast_dynamic.iloc[-len(test_data_dynamic):]['yhat']\n",
        "mse = mean_squared_error(test_data_dynamic['y'], forecast_test_dynamic)\n",
        "print(f'Mean Squared Error: {mse}')"
      ],
      "metadata": {
        "id": "DdW3j9W-S_z4"
      },
      "execution_count": null,
      "outputs": []
    },
    {
      "cell_type": "code",
      "source": [
        "plt.figure(figsize=(10, 5))\n",
        "plt.plot(test_data_dynamic['ds'], test_data_dynamic['y'], label='Actual Values')\n",
        "plt.plot(test_data_dynamic['ds'], forecast_test_dynamic, label='Forecasted Values')\n",
        "plt.legend(loc='upper left')\n",
        "plt.title('Dynamic Peak Hour Forecast vs Actual')\n",
        "plt.show()"
      ],
      "metadata": {
        "id": "3Knn2NkbTC2_"
      },
      "execution_count": null,
      "outputs": []
    },
    {
      "cell_type": "code",
      "source": [
        "df_prophet_std = df_standard[['Date', 'Daily KWH']].rename(columns={'Date': 'ds', 'KWH/hh (per half hour) ': 'y'})"
      ],
      "metadata": {
        "id": "YXHWjUlSTH6Y"
      },
      "execution_count": null,
      "outputs": []
    },
    {
      "cell_type": "code",
      "source": [
        "train_size_std = int(len(df_prophet_std) * 0.8)\n",
        "train_data_std = df_prophet_std[:train_size_std]\n",
        "test_data_std = df_prophet_std[train_size_std:]\n",
        "print(test_data_std)"
      ],
      "metadata": {
        "id": "NWtZrbfCTMS0"
      },
      "execution_count": null,
      "outputs": []
    },
    {
      "cell_type": "code",
      "source": [
        "model_std = Prophet()\n",
        "model_std.fit(train_data_std)"
      ],
      "metadata": {
        "id": "cINVaYQ8TOof"
      },
      "execution_count": null,
      "outputs": []
    },
    {
      "cell_type": "code",
      "source": [
        "test_data_std = test_data_std.dropna(subset=['y'])"
      ],
      "metadata": {
        "id": "YgH0uoGeTSIe"
      },
      "execution_count": null,
      "outputs": []
    },
    {
      "cell_type": "code",
      "source": [
        "test_data_std['y'].fillna(method='ffill', inplace=True)  # forward fill"
      ],
      "metadata": {
        "id": "71Eta1GRTWfx"
      },
      "execution_count": null,
      "outputs": []
    },
    {
      "cell_type": "code",
      "source": [
        "print(test_data_std[test_data_std['y'].isna()])"
      ],
      "metadata": {
        "id": "ForDTk_lTZIM"
      },
      "execution_count": null,
      "outputs": []
    },
    {
      "cell_type": "code",
      "source": [
        "future_std = model_std.make_future_dataframe(periods=len(test_data_std), freq='D')  # 'H' for hourly data\n",
        "forecast_std = model_std.predict(future_std)"
      ],
      "metadata": {
        "id": "axBpZ4UXTbeE"
      },
      "execution_count": null,
      "outputs": []
    },
    {
      "cell_type": "code",
      "source": [
        "forecast_test_std = forecast_std.iloc[-len(test_data_std):]['yhat']\n",
        "mse = mean_squared_error(test_data_std['y'], forecast_test_std)\n",
        "print(f'Mean Squared Error: {mse}')"
      ],
      "metadata": {
        "id": "rh26disgTqQz"
      },
      "execution_count": null,
      "outputs": []
    },
    {
      "cell_type": "code",
      "source": [
        "plt.figure(figsize=(10, 5))\n",
        "plt.plot(test_data_std['ds'], test_data_std['y'], label='Actual Values')\n",
        "plt.plot(test_data_std['ds'], forecast_test_std, label='Forecasted Values')\n",
        "plt.legend(loc='upper left')\n",
        "plt.title('Standard Peak Hour Forecast vs Actual')\n",
        "plt.show()"
      ],
      "metadata": {
        "id": "YwMQnXSDTte3"
      },
      "execution_count": null,
      "outputs": []
    },
    {
      "cell_type": "code",
      "source": [
        "# Find the maximum predicted consumption\n",
        "max_predicted_value = forecast_dynamic['yhat'].max()\n",
        "# Find the maximum predicted consumption\n",
        "max_predicted_value = forecast_std['yhat'].max()\n",
        "\n",
        "# Print the results\n",
        "print(f\"The maximum predicted dynamic consumption is {max_predicted_value:.2f} KWH\")\n",
        "print(f\"The maximum predicted standard consumption is {max_predicted_value:.2f} KWH\")"
      ],
      "metadata": {
        "id": "qWZim7idTyEl"
      },
      "execution_count": null,
      "outputs": []
    },
    {
      "cell_type": "code",
      "source": [
        "import itertools\n",
        "\n",
        "# Define the parameter grid\n",
        "param_grid = {\n",
        "    'changepoint_prior_scale': [0.01, 0.1, 0.5],\n",
        "    'seasonality_prior_scale': [10.0, 15.0, 20.0],\n",
        "    'holidays_prior_scale': [0.1, 0.5, 1.0]\n",
        "}\n",
        "\n",
        "# Generate all combinations of parameters\n",
        "all_params = [dict(zip(param_grid.keys(), v)) for v in itertools.product(*param_grid.values())]\n",
        "\n",
        "# Initialize a DataFrame to store the results\n",
        "results = []\n",
        "\n",
        "# Loop over each combination of parameters\n",
        "for params in all_params:\n",
        "    # Initialize a Prophet model with the current set of parameters\n",
        "    model = Prophet(\n",
        "        changepoint_prior_scale=params['changepoint_prior_scale'],\n",
        "        seasonality_prior_scale=params['seasonality_prior_scale'],\n",
        "        holidays_prior_scale=params['holidays_prior_scale']\n",
        "    )\n",
        "\n",
        "     # Fit the model on the training data\n",
        "    model.fit(train_data_dynamic)\n",
        "\n",
        "    # Make predictions on the test data\n",
        "    forecast = model.predict(test_data_dynamic)\n",
        "\n",
        "    # Calculate the mean squared error of the predictions\n",
        "    mse = mean_squared_error(test_data_dynamic['y'], forecast['yhat'])\n",
        "\n",
        "    # Store the parameters and the mse in the results list\n",
        "    results.append({'params': params, 'mse': mse})\n",
        "\n",
        "# Convert the results list into a DataFrame\n",
        "results_df = pd.DataFrame(results)\n",
        "\n",
        "# Find the parameters with the lowest mse\n",
        "best_params = results_df.loc[results_df['mse'].idxmin()]\n",
        "\n",
        "print(f\"Best Parameters: {best_params['params']}\")\n",
        "print(f\"Best MSE: {best_params['mse']}\")"
      ],
      "metadata": {
        "id": "cL7eIxZ-T8Ah"
      },
      "execution_count": null,
      "outputs": []
    },
    {
      "cell_type": "code",
      "source": [
        "#Define the parameter grid\n",
        "param_grid = {\n",
        "    'changepoint_prior_scale': [0.01, 0.1, 0.5],\n",
        "    'seasonality_prior_scale': [10.0, 15.0, 20.0],\n",
        "    'holidays_prior_scale': [0.1, 0.5, 1.0],\n",
        "    'yearly_seasonality': [True, False]\n",
        "}\n",
        "\n",
        "# Generate all combinations of parameters\n",
        "all_params = [dict(zip(param_grid.keys(), v)) for v in itertools.product(*param_grid.values())]\n",
        "\n",
        "# Initialize a DataFrame to store the results\n",
        "results = []\n",
        "\n",
        "# Loop over each combination of parameters\n",
        "for params in all_params:\n",
        "    # Initialize a Prophet model with the current set of parameters\n",
        "    model = Prophet(\n",
        "        changepoint_prior_scale=params['changepoint_prior_scale'],\n",
        "        seasonality_prior_scale=params['seasonality_prior_scale'],\n",
        "        holidays_prior_scale=params['holidays_prior_scale'],\n",
        "        yearly_seasonality=params['yearly_seasonality']\n",
        "\n",
        "    )\n",
        "\n",
        "    # Fit the model on the training data\n",
        "    model.fit(train_data_dynamic, daily_seasonality=True)\n",
        "\n",
        "    # Make predictions on the test data\n",
        "    forecast = model.predict(test_data_dynamic)\n",
        "\n",
        "    # Calculate the mean squared error of the predictions\n",
        "    mse = mean_squared_error(test_data_dynamic['y'], forecast['yhat'])\n",
        "\n",
        "    # Store the parameters and the mse in the results list\n",
        "    results.append({'params': params, 'mse': mse})\n",
        "\n",
        "# Convert the results list into a DataFrame\n",
        "results_df = pd.DataFrame(results)\n",
        "\n",
        "# Find the parameters with the lowest mse\n",
        "best_params = results_df.loc[results_df['mse'].idxmin()]\n",
        "\n",
        "print(f\"Best Parameters: {best_params['params']}\")\n",
        "print(f\"Best MSE: {best_params['mse']}\")\n"
      ],
      "metadata": {
        "id": "E47F-Y52UBQ6"
      },
      "execution_count": null,
      "outputs": []
    },
    {
      "cell_type": "code",
      "source": [
        "# Using the best parameters to fit the final model\n",
        "best_model_dynamic = Prophet(\n",
        "    changepoint_prior_scale=best_params['params']['changepoint_prior_scale'],\n",
        "    seasonality_prior_scale=best_params['params']['seasonality_prior_scale'],\n",
        "    holidays_prior_scale=best_params['params']['holidays_prior_scale'],\n",
        "    yearly_seasonality=best_params['params']['yearly_seasonality']\n",
        ")\n",
        "\n",
        "best_model_dynamic.fit(train_data_dynamic)\n",
        "best_forecast_dynamic = best_model_dynamic.predict(test_data_dynamic)\n",
        "\n",
        "# Now you can evaluate or visualize the forecast\n",
        "best_forecast_test_dynamic = best_forecast_dynamic.iloc[-len(test_data_dynamic):]['yhat']\n",
        "mse = mean_squared_error(test_data_dynamic['y'], best_forecast_test_dynamic)\n",
        "print(f'Mean Squared Error: {mse}')"
      ],
      "metadata": {
        "id": "a-uveIJuUO1I"
      },
      "execution_count": null,
      "outputs": []
    },
    {
      "cell_type": "code",
      "source": [
        "plt.figure(figsize=(10, 5))\n",
        "plt.plot(test_data_dynamic['ds'], test_data_dynamic['y'], label='Actual Values')\n",
        "plt.plot(test_data_dynamic['ds'], best_forecast_test_dynamic, label='Forecasted Values')\n",
        "plt.legend(loc='upper left')\n",
        "plt.title('Dynamic Peak Hour Forecast vs Actual Optimised Model')\n",
        "plt.show()"
      ],
      "metadata": {
        "id": "i1vbiR5eUS3F"
      },
      "execution_count": null,
      "outputs": []
    },
    {
      "cell_type": "code",
      "source": [
        "# Using the best parameters to fit the final model\n",
        "best_model_std = Prophet(\n",
        "    changepoint_prior_scale=best_params['params']['changepoint_prior_scale'],\n",
        "    seasonality_prior_scale=best_params['params']['seasonality_prior_scale'],\n",
        "    holidays_prior_scale=best_params['params']['holidays_prior_scale'],\n",
        "    yearly_seasonality=best_params['params']['yearly_seasonality']\n",
        ")\n",
        "\n",
        "best_model_std.fit(train_data_std)\n",
        "best_forecast_std = best_model_std.predict(test_data_std)\n",
        "\n",
        "# Now you can evaluate or visualize the forecast\n",
        "best_forecast_test_std = best_forecast_std.iloc[-len(test_data_std):]['yhat']\n",
        "mse = mean_squared_error(test_data_std['y'], best_forecast_test_std)\n",
        "print(f'Mean Squared Error: {mse}')"
      ],
      "metadata": {
        "id": "O2FyWsLNUVlO"
      },
      "execution_count": null,
      "outputs": []
    },
    {
      "cell_type": "code",
      "source": [
        "plt.figure(figsize=(10, 5))\n",
        "plt.plot(test_data_std['ds'], test_data_std['y'], label='Actual Values')\n",
        "plt.plot(test_data_std['ds'], best_forecast_test_std, label='Forecasted Values')\n",
        "plt.legend(loc='upper left')\n",
        "plt.title('Standard Peak Hour Forecast vs Actual Optimised Model')\n",
        "plt.show()"
      ],
      "metadata": {
        "id": "Fmhgw1nGUYwg"
      },
      "execution_count": null,
      "outputs": []
    },
    {
      "cell_type": "code",
      "source": [
        "# Find the maximum predicted consumption\n",
        "max_predicted_value_std = best_forecast_std['yhat'].max()\n",
        "max_predicted_value_dynamic = best_forecast_dynamic['yhat'].max()\n",
        "\n",
        "# Print the results\n",
        "print(f\"The maximum predicted standard consumption is {max_predicted_value_std:.2f} KWH\")\n",
        "print(f\"The maximum predicted dynamic consumption is {max_predicted_value_dynamic:.2f} KWH\")"
      ],
      "metadata": {
        "id": "2l2KJHmgUb63"
      },
      "execution_count": null,
      "outputs": []
    },
    {
      "cell_type": "code",
      "source": [
        "import xgboost as xgb\n",
        "from sklearn.model_selection import train_test_split, GridSearchCV\n",
        "from sklearn.metrics import mean_squared_error\n",
        "import pandas as pd"
      ],
      "metadata": {
        "id": "sgUyw1sWUmdQ"
      },
      "execution_count": null,
      "outputs": []
    },
    {
      "cell_type": "code",
      "source": [
        "# Example: X and y are your features and target variables\n",
        "# Assuming 'DateTime' is your index and 'KWH/hh (per half hour) ' is the target\n",
        "\n",
        "y_dynamic = df_dynamic['Daily KWH']\n",
        "X_dynamic = df_dynamic.drop(columns=['Daily KWH'])  # Use all other columns as features\n",
        "\n",
        "# Split data into training and testing sets\n",
        "X_train_dyn, X_test_dyn, y_train_dyn, y_test_dyn = train_test_split(X_dynamic, y_dynamic, test_size=0.2, random_state=42)"
      ],
      "metadata": {
        "id": "e73gd_LTDiBc"
      },
      "execution_count": null,
      "outputs": []
    },
    {
      "cell_type": "code",
      "source": [
        "# Example: X and y are your features and target variables\n",
        "# Assuming 'DateTime' is your index and 'KWH/hh (per half hour) ' is the target\n",
        "\n",
        "y_std = df_standard['Daily KWH']\n",
        "X_std = df_standard.drop(columns=['Daily KWH'])  # Use all other columns as features\n",
        "\n",
        "# Split data into training and testing sets\n",
        "X_train_std, X_test_std, y_train_std, y_test_std = train_test_split(X_std, y_std, test_size=0.2, random_state=42)"
      ],
      "metadata": {
        "id": "P3yHyJrDDr-4"
      },
      "execution_count": null,
      "outputs": []
    },
    {
      "cell_type": "code",
      "source": [
        "#Convert 'Date' to datetime object and extract relevant features\n",
        "X_train_dyn['Date'] = pd.to_datetime(X_train_dyn['Date'])\n",
        "X_train_dyn['Year'] = X_train_dyn['Date'].dt.year\n",
        "X_train_dyn['Month'] = X_train_dyn['Date'].dt.month\n",
        "X_train_dyn['Day'] = X_train_dyn['Date'].dt.day\n",
        "X_train_dyn = X_train_dyn.drop(columns=['Date'])  # Drop original 'Date' column\n",
        "\n",
        "# Convert categorical features 'stdorToU' and 'LCLid' to numerical using one-hot encoding\n",
        "X_train_dyn = pd.get_dummies(X_train_dyn, columns=['stdorToU', 'LCLid'])"
      ],
      "metadata": {
        "id": "xeF21Q0rEAFS"
      },
      "execution_count": null,
      "outputs": []
    },
    {
      "cell_type": "code",
      "source": [
        "# Initialize XGBoost regressor\n",
        "xgb_model = xgb.XGBRegressor(objective='reg:squarederror')\n",
        "\n",
        "# Define the parameter grid for GridSearchCV\n",
        "param_grid = {\n",
        "    'n_estimators': [100, 200, 300],\n",
        "    'max_depth': [3, 4, 5],\n",
        "    'learning_rate': [0.01, 0.1, 0.2],\n",
        "    'subsample': [0.8, 0.9, 1.0],\n",
        "    'colsample_bytree': [0.8, 0.9, 1.0]\n",
        "}"
      ],
      "metadata": {
        "id": "cgu2ZkcOEFqS"
      },
      "execution_count": null,
      "outputs": []
    },
    {
      "cell_type": "code",
      "source": [
        "# Initialize GridSearchCV with 5-fold cross-validation\n",
        "grid_search_dynamic = GridSearchCV(estimator=xgb_model, param_grid=param_grid, cv=5, scoring='neg_mean_squared_error', verbose=1)\n",
        "\n",
        "# Fit the grid search\n",
        "grid_search_dynamic.fit(X_train_dyn, y_train_dyn)\n",
        "\n",
        "# Get the best parameters and best model\n",
        "best_params_dyn = grid_search_dynamic.best_params_\n",
        "best_model_dyn = grid_search_dynamic.best_estimator_\n",
        "\n",
        "print(f\"Best Parameters Dynamic: {best_params_dyn}\")"
      ],
      "metadata": {
        "id": "VG6tnYluEJM_"
      },
      "execution_count": null,
      "outputs": []
    },
    {
      "cell_type": "code",
      "source": [
        "#Convert 'Date' to datetime object and extract relevant features\n",
        "X_test_dyn['Date'] = pd.to_datetime(X_test_dyn['Date'])\n",
        "X_test_dyn['Year'] = X_test_dyn['Date'].dt.year\n",
        "X_test_dyn['Month'] = X_test_dyn['Date'].dt.month\n",
        "X_test_dyn['Day'] = X_test_dyn['Date'].dt.day\n",
        "X_test_dyn = X_test_dyn.drop(columns=['Date'])  # Drop original 'Date' column\n",
        "\n",
        "# Convert categorical features 'stdorToU' and 'LCLid' to numerical using one-hot encoding\n",
        "X_test_dyn = pd.get_dummies(X_test_dyn, columns=['stdorToU', 'LCLid'])\n",
        "\n",
        "# Make predictions on the test set\n",
        "y_pred_dyn = best_model_dyn.predict(X_test_dyn)"
      ],
      "metadata": {
        "id": "qnKdz0r0EMyc"
      },
      "execution_count": null,
      "outputs": []
    },
    {
      "cell_type": "code",
      "source": [
        "mse = mean_squared_error(y_test_dyn, y_pred_dyn)\n",
        "print(f\"Mean Squared Error: {mse}\")"
      ],
      "metadata": {
        "id": "zCDyim_qERgW"
      },
      "execution_count": null,
      "outputs": []
    },
    {
      "cell_type": "code",
      "source": [
        "import matplotlib.pyplot as plt\n",
        "\n",
        "# Create a plot\n",
        "plt.figure(figsize=(10, 6))\n",
        "\n",
        "# Plot actual values\n",
        "plt.plot(y_test_dyn.values, label='Actual', color='blue', marker='o', linestyle='-')\n",
        "\n",
        "# Plot predicted values\n",
        "plt.plot(y_pred_dyn, label='Predicted', color='red', marker='x', linestyle='--')\n",
        "\n",
        "# Adding title and labels\n",
        "plt.title('Actual vs Predicted Energy Consumption')\n",
        "plt.xlabel('Time')\n",
        "plt.ylabel('KWH/hh (per half hour)')\n",
        "plt.legend()\n",
        "\n",
        "# Display the plot\n",
        "plt.show()"
      ],
      "metadata": {
        "id": "X070EcRYEVhI"
      },
      "execution_count": null,
      "outputs": []
    },
    {
      "cell_type": "code",
      "source": [
        "#Convert 'Date' to datetime object and extract relevant features\n",
        "X_train_std['Date'] = pd.to_datetime(X_train_std['Date'])\n",
        "X_train_std['Year'] = X_train_std['Date'].dt.year\n",
        "X_train_std['Month'] = X_train_std['Date'].dt.month\n",
        "X_train_std['Day'] = X_train_std['Date'].dt.day\n",
        "X_train_std = X_train_std.drop(columns=['Date'])  # Drop original 'Date' column\n",
        "\n",
        "# Convert categorical features 'stdorToU' and 'LCLid' to numerical using one-hot encoding\n",
        "X_train_std = pd.get_dummies(X_train_std, columns=['stdorToU', 'LCLid'])"
      ],
      "metadata": {
        "id": "lX-0vIwaEY6j"
      },
      "execution_count": null,
      "outputs": []
    },
    {
      "cell_type": "code",
      "source": [
        "import numpy as np\n",
        "\n",
        "# Check for NaN and infinite values in y_train_std\n",
        "print(\"Number of NaN values in y_train_std:\", y_train_std.isna().sum())\n",
        "print(\"Number of infinite values in y_train_std:\", y_train_std.isin([np.inf, -np.inf]).sum())\n",
        "\n",
        "# If there are NaN or infinite values, you need to handle them.\n",
        "# Here's one way to replace NaN values with the mean:\n",
        "y_train_std = y_train_std.fillna(y_train_std.mean())\n",
        "print(\"Number of NaN values in y_train_std:\", y_train_std.isna().sum())"
      ],
      "metadata": {
        "id": "EjKJEFwVEb3A"
      },
      "execution_count": null,
      "outputs": []
    },
    {
      "cell_type": "code",
      "source": [
        "# Initialize GridSearchCV with 5-fold cross-validation and error handling\n",
        "grid_search_std = GridSearchCV(estimator=xgb_model, param_grid=param_grid, cv=5, scoring='neg_mean_squared_error', verbose=1, error_score='raise') # Setting error_score='raise' will help pinpoint the exact location of the problematic values\n",
        "\n",
        "# Fit the grid search\n",
        "grid_search_std.fit(X_train_std, y_train_std)\n",
        "\n",
        "# Get the best parameters and best model\n",
        "best_params_std = grid_search_std.best_params_\n",
        "best_model_std = grid_search_std.best_estimator_\n",
        "\n",
        "print(f\"Best Parameters Dynamic: {best_params_std}\")\n"
      ],
      "metadata": {
        "colab": {
          "base_uri": "https://localhost:8080/"
        },
        "id": "Md40-gjfMh_p",
        "outputId": "12f14c63-bdfe-45b4-9abf-039d4708f2a3"
      },
      "execution_count": null,
      "outputs": [
        {
          "output_type": "stream",
          "name": "stdout",
          "text": [
            "Fitting 5 folds for each of 243 candidates, totalling 1215 fits\n",
            "Best Parameters Dynamic: {'colsample_bytree': 1.0, 'learning_rate': 0.1, 'max_depth': 5, 'n_estimators': 300, 'subsample': 0.9}\n"
          ]
        }
      ]
    },
    {
      "cell_type": "code",
      "source": [
        "# Make predictions on the test set\n",
        "y_pred_std = best_model_std.predict(X_test_std)"
      ],
      "metadata": {
        "id": "v-wPgSd5Ej4A"
      },
      "execution_count": null,
      "outputs": []
    },
    {
      "cell_type": "code",
      "source": [
        "mse = mean_squared_error(y_test_std, y_pred_std)\n",
        "print(f\"Mean Squared Error: {mse}\")\n"
      ],
      "metadata": {
        "id": "fBINO-yuEmpE"
      },
      "execution_count": null,
      "outputs": []
    },
    {
      "cell_type": "code",
      "source": [
        "# Create a plot\n",
        "plt.figure(figsize=(10, 6))\n",
        "\n",
        "# Plot actual values\n",
        "plt.plot(y_test_std.values, label='Actual', color='blue', marker='o', linestyle='-')\n",
        "\n",
        "# Plot predicted values\n",
        "plt.plot(y_pred_std, label='Predicted', color='red', marker='x', linestyle='--')\n",
        "\n",
        "# Adding title and labels\n",
        "plt.title('Standard Actual vs Predicted Energy Consumption')\n",
        "plt.xlabel('Time')\n",
        "plt.ylabel('KWH/hh (per half hour)')\n",
        "plt.legend()\n",
        "\n",
        "# Display the plot\n",
        "plt.show()"
      ],
      "metadata": {
        "id": "IiOLHo4OEpTa"
      },
      "execution_count": null,
      "outputs": []
    },
    {
      "cell_type": "code",
      "source": [],
      "metadata": {
        "id": "t0Lu4YZsEsqW"
      },
      "execution_count": null,
      "outputs": []
    }
  ]
}